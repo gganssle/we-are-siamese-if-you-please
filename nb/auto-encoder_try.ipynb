{
 "cells": [
  {
   "cell_type": "code",
   "execution_count": 1,
   "metadata": {
    "collapsed": true
   },
   "outputs": [],
   "source": [
    "import numpy as np\n",
    "import pandas as pd\n",
    "import torch\n",
    "import torch.nn as nn\n",
    "from torch.autograd import Variable\n",
    "import matplotlib.pyplot as plt"
   ]
  },
  {
   "cell_type": "code",
   "execution_count": 2,
   "metadata": {
    "collapsed": false
   },
   "outputs": [
    {
     "data": {
      "text/html": [
       "<div>\n",
       "<table border=\"1\" class=\"dataframe\">\n",
       "  <thead>\n",
       "    <tr style=\"text-align: right;\">\n",
       "      <th></th>\n",
       "      <th>Cluster ID</th>\n",
       "      <th>Id</th>\n",
       "      <th>Site name</th>\n",
       "      <th>Address</th>\n",
       "      <th>Zip</th>\n",
       "      <th>Phone</th>\n",
       "    </tr>\n",
       "  </thead>\n",
       "  <tbody>\n",
       "    <tr>\n",
       "      <th>0</th>\n",
       "      <td>0</td>\n",
       "      <td>0</td>\n",
       "      <td>salvation army - temple / salvation army</td>\n",
       "      <td>1 n ogden ave</td>\n",
       "      <td>nan</td>\n",
       "      <td>2262649.0</td>\n",
       "    </tr>\n",
       "    <tr>\n",
       "      <th>1</th>\n",
       "      <td>0</td>\n",
       "      <td>1</td>\n",
       "      <td>salvation army - temple / salvation army</td>\n",
       "      <td>1 n ogden ave</td>\n",
       "      <td>nan</td>\n",
       "      <td>2262649.0</td>\n",
       "    </tr>\n",
       "    <tr>\n",
       "      <th>2</th>\n",
       "      <td>0</td>\n",
       "      <td>215</td>\n",
       "      <td>salvation army temple</td>\n",
       "      <td>1 n. ogden</td>\n",
       "      <td>nan</td>\n",
       "      <td>2262649.0</td>\n",
       "    </tr>\n",
       "    <tr>\n",
       "      <th>3</th>\n",
       "      <td>0</td>\n",
       "      <td>509</td>\n",
       "      <td>salvation army - temple / salvation army</td>\n",
       "      <td>1 n ogden ave</td>\n",
       "      <td>nan</td>\n",
       "      <td>2262649.0</td>\n",
       "    </tr>\n",
       "    <tr>\n",
       "      <th>4</th>\n",
       "      <td>0</td>\n",
       "      <td>510</td>\n",
       "      <td>salvation army - temple / salvation army</td>\n",
       "      <td>1 n ogden ave</td>\n",
       "      <td>nan</td>\n",
       "      <td>2262649.0</td>\n",
       "    </tr>\n",
       "    <tr>\n",
       "      <th>5</th>\n",
       "      <td>0</td>\n",
       "      <td>1225</td>\n",
       "      <td>salvation army - temple / salvation army</td>\n",
       "      <td>1 n ogden ave</td>\n",
       "      <td>nan</td>\n",
       "      <td>2262649.0</td>\n",
       "    </tr>\n",
       "    <tr>\n",
       "      <th>6</th>\n",
       "      <td>0</td>\n",
       "      <td>1226</td>\n",
       "      <td>salvation army - temple / salvation army</td>\n",
       "      <td>1 n ogden ave</td>\n",
       "      <td>nan</td>\n",
       "      <td>2262649.0</td>\n",
       "    </tr>\n",
       "    <tr>\n",
       "      <th>7</th>\n",
       "      <td>0</td>\n",
       "      <td>1879</td>\n",
       "      <td>salvation army temple</td>\n",
       "      <td>1 n ogden</td>\n",
       "      <td>60640.0</td>\n",
       "      <td>2262649.0</td>\n",
       "    </tr>\n",
       "    <tr>\n",
       "      <th>8</th>\n",
       "      <td>0</td>\n",
       "      <td>2758</td>\n",
       "      <td>salvation army temple</td>\n",
       "      <td>1 n. ogden</td>\n",
       "      <td>60607.0</td>\n",
       "      <td>2262649.0</td>\n",
       "    </tr>\n",
       "    <tr>\n",
       "      <th>9</th>\n",
       "      <td>0</td>\n",
       "      <td>3255</td>\n",
       "      <td>salvation army - chicago temple corps communit...</td>\n",
       "      <td>1 n ogden avenue</td>\n",
       "      <td>60607.0</td>\n",
       "      <td>2262649.0</td>\n",
       "    </tr>\n",
       "    <tr>\n",
       "      <th>10</th>\n",
       "      <td>1</td>\n",
       "      <td>2</td>\n",
       "      <td>national louis university - dr. effie o. ellis...</td>\n",
       "      <td>10 s kedzie ave</td>\n",
       "      <td>nan</td>\n",
       "      <td>5339011.0</td>\n",
       "    </tr>\n",
       "    <tr>\n",
       "      <th>11</th>\n",
       "      <td>1</td>\n",
       "      <td>3</td>\n",
       "      <td>national louis university - dr. effie o. ellis...</td>\n",
       "      <td>10 s kedzie ave</td>\n",
       "      <td>nan</td>\n",
       "      <td>5339011.0</td>\n",
       "    </tr>\n",
       "    <tr>\n",
       "      <th>12</th>\n",
       "      <td>1</td>\n",
       "      <td>216</td>\n",
       "      <td>national louis university-dr. effie o. ellis h...</td>\n",
       "      <td>10 s. kedzie</td>\n",
       "      <td>nan</td>\n",
       "      <td>5339011.0</td>\n",
       "    </tr>\n",
       "    <tr>\n",
       "      <th>13</th>\n",
       "      <td>1</td>\n",
       "      <td>511</td>\n",
       "      <td>national louis university - dr. effie o. ellis...</td>\n",
       "      <td>10 s kedzie ave</td>\n",
       "      <td>nan</td>\n",
       "      <td>5339011.0</td>\n",
       "    </tr>\n",
       "    <tr>\n",
       "      <th>14</th>\n",
       "      <td>1</td>\n",
       "      <td>512</td>\n",
       "      <td>national louis university - dr. effie o. ellis...</td>\n",
       "      <td>10 s kedzie ave</td>\n",
       "      <td>nan</td>\n",
       "      <td>5339011.0</td>\n",
       "    </tr>\n",
       "  </tbody>\n",
       "</table>\n",
       "</div>"
      ],
      "text/plain": [
       "    Cluster ID    Id                                          Site name  \\\n",
       "0            0     0           salvation army - temple / salvation army   \n",
       "1            0     1           salvation army - temple / salvation army   \n",
       "2            0   215                              salvation army temple   \n",
       "3            0   509           salvation army - temple / salvation army   \n",
       "4            0   510           salvation army - temple / salvation army   \n",
       "5            0  1225           salvation army - temple / salvation army   \n",
       "6            0  1226           salvation army - temple / salvation army   \n",
       "7            0  1879                              salvation army temple   \n",
       "8            0  2758                              salvation army temple   \n",
       "9            0  3255  salvation army - chicago temple corps communit...   \n",
       "10           1     2  national louis university - dr. effie o. ellis...   \n",
       "11           1     3  national louis university - dr. effie o. ellis...   \n",
       "12           1   216  national louis university-dr. effie o. ellis h...   \n",
       "13           1   511  national louis university - dr. effie o. ellis...   \n",
       "14           1   512  national louis university - dr. effie o. ellis...   \n",
       "\n",
       "             Address      Zip      Phone  \n",
       "0      1 n ogden ave      nan  2262649.0  \n",
       "1      1 n ogden ave      nan  2262649.0  \n",
       "2         1 n. ogden      nan  2262649.0  \n",
       "3      1 n ogden ave      nan  2262649.0  \n",
       "4      1 n ogden ave      nan  2262649.0  \n",
       "5      1 n ogden ave      nan  2262649.0  \n",
       "6      1 n ogden ave      nan  2262649.0  \n",
       "7          1 n ogden  60640.0  2262649.0  \n",
       "8         1 n. ogden  60607.0  2262649.0  \n",
       "9   1 n ogden avenue  60607.0  2262649.0  \n",
       "10   10 s kedzie ave      nan  5339011.0  \n",
       "11   10 s kedzie ave      nan  5339011.0  \n",
       "12      10 s. kedzie      nan  5339011.0  \n",
       "13   10 s kedzie ave      nan  5339011.0  \n",
       "14   10 s kedzie ave      nan  5339011.0  "
      ]
     },
     "execution_count": 2,
     "metadata": {},
     "output_type": "execute_result"
    }
   ],
   "source": [
    "raw = pd.read_csv('../dat/schools_w_clusters.csv')\n",
    "raw = raw[['Cluster ID', 'Id', 'Site name', 'Address', 'Zip', 'Phone']]\n",
    "raw['Zip'] = raw['Zip'].astype(str)\n",
    "raw['Phone'] = raw['Phone'].astype(str)\n",
    "raw.head(15)"
   ]
  },
  {
   "cell_type": "code",
   "execution_count": 3,
   "metadata": {
    "collapsed": false
   },
   "outputs": [
    {
     "name": "stdout",
     "output_type": "stream",
     "text": [
      "name max len = 95\n",
      "address max len = 43\n",
      "Zip max len = 7\n",
      "phone max len = 9\n"
     ]
    }
   ],
   "source": [
    "print('name max len =', raw['Site name'].str.len().max())\n",
    "print('address max len =', raw['Address'].str.len().max())\n",
    "print('Zip max len =', raw['Zip'].str.len().max())\n",
    "print('phone max len =', raw['Phone'].str.len().max())"
   ]
  },
  {
   "cell_type": "markdown",
   "metadata": {},
   "source": [
    "for a total of max length 154"
   ]
  },
  {
   "cell_type": "markdown",
   "metadata": {},
   "source": [
    "## defs\n",
    "The following insanity is how we need to convert into a useable Torch tensor of correct size and Variable...ness."
   ]
  },
  {
   "cell_type": "code",
   "execution_count": 4,
   "metadata": {
    "collapsed": false
   },
   "outputs": [
    {
     "data": {
      "text/plain": [
       "Variable containing:\n",
       " 0.0181  0.5914  0.6572  0.6891  0.3115  0.8512  0.0298  0.4591  0.1530  0.7110\n",
       "[torch.FloatTensor of size 1x10]"
      ]
     },
     "execution_count": 4,
     "metadata": {},
     "output_type": "execute_result"
    }
   ],
   "source": [
    "Variable(torch.from_numpy(np.random.rand(10)).float()).view(1,10)"
   ]
  },
  {
   "cell_type": "code",
   "execution_count": 5,
   "metadata": {
    "collapsed": true
   },
   "outputs": [],
   "source": [
    "def extend_to_length(string_to_expand, length):\n",
    "    extension = '~' * (length-len(string_to_expand))\n",
    "    return string_to_expand + extension\n",
    "\n",
    "def record_formatter(record):\n",
    "    name = extend_to_length(record['Site name'], 95)\n",
    "    addr = extend_to_length(record['Address'], 43)\n",
    "    zipp = extend_to_length(record['Zip'], 7)\n",
    "    phon = extend_to_length(record['Phone'], 9)\n",
    "    \n",
    "    strings = list(''.join((name, addr, zipp, phon)))\n",
    "    characters = np.array(list(map(ord, strings)))\n",
    "    \n",
    "    return Variable(torch.from_numpy(characters).float()).view(1,len(characters))"
   ]
  },
  {
   "cell_type": "code",
   "execution_count": 131,
   "metadata": {
    "collapsed": true
   },
   "outputs": [],
   "source": [
    "class SiameseNetwork(nn.Module):\n",
    "    def __init__(self, v_size=154, enc_size=50):\n",
    "        super(SiameseNetwork, self).__init__()\n",
    "        \n",
    "        self.encoder = nn.Sequential(\n",
    "            nn.Linear(v_size, 400),\n",
    "            nn.ReLU(True),\n",
    "            nn.Linear(400, 200),\n",
    "            nn.ReLU(True),\n",
    "            nn.Linear(200, 100),\n",
    "            nn.ReLU(True),\n",
    "            nn.Linear(100, enc_size)\n",
    "        )\n",
    "        \n",
    "        self.decoder = nn.Sequential(\n",
    "            nn.Linear(enc_size, 75),\n",
    "            nn.ReLU(True),\n",
    "            nn.Linear(75, 100),\n",
    "            nn.ReLU(True),\n",
    "            nn.Linear(100, 125),\n",
    "            nn.ReLU(True),\n",
    "            nn.Linear(125, v_size)\n",
    "        )\n",
    "        \n",
    "        self.discriminator = nn.Sequential(\n",
    "            nn.Linear(enc_size*2, 100),\n",
    "            nn.ReLU(True),\n",
    "            nn.Linear(100, 50),\n",
    "            nn.ReLU(True),\n",
    "            nn.Linear(50,2),\n",
    "            nn.LogSoftmax()\n",
    "        )\n",
    "\n",
    "    def discriminate(self, input1, input2):\n",
    "        output = self.discriminator(torch.cat([input1, input2], dim=1))\n",
    "        return output\n",
    "    \n",
    "    def autoencode(self, vector):\n",
    "        return self.decoder(self.encoder(vector))\n",
    "    \n",
    "    def encode(self, vector):\n",
    "        return self.encoder(vector)"
   ]
  },
  {
   "cell_type": "markdown",
   "metadata": {},
   "source": [
    "## data characteristics"
   ]
  },
  {
   "cell_type": "code",
   "execution_count": 7,
   "metadata": {
    "collapsed": false
   },
   "outputs": [
    {
     "data": {
      "text/plain": [
       "(2693, 6)"
      ]
     },
     "execution_count": 7,
     "metadata": {},
     "output_type": "execute_result"
    }
   ],
   "source": [
    "raw.shape"
   ]
  },
  {
   "cell_type": "code",
   "execution_count": 8,
   "metadata": {
    "collapsed": false
   },
   "outputs": [
    {
     "data": {
      "text/plain": [
       "(740,)"
      ]
     },
     "execution_count": 8,
     "metadata": {},
     "output_type": "execute_result"
    }
   ],
   "source": [
    "raw['Cluster ID'].unique().shape"
   ]
  },
  {
   "cell_type": "markdown",
   "metadata": {},
   "source": [
    "## training"
   ]
  },
  {
   "cell_type": "code",
   "execution_count": 167,
   "metadata": {
    "collapsed": false
   },
   "outputs": [],
   "source": [
    "learning_rate = 0.001\n",
    "\n",
    "model = SiameseNetwork()\n",
    "criterion = nn.MSELoss()\n",
    "optimizer = torch.optim.Adam(model.parameters(), lr=learning_rate)"
   ]
  },
  {
   "cell_type": "code",
   "execution_count": 170,
   "metadata": {
    "collapsed": false
   },
   "outputs": [
    {
     "name": "stdout",
     "output_type": "stream",
     "text": [
      "CPU times: user 3min 4s, sys: 8.05 s, total: 3min 12s\n",
      "Wall time: 28.1 s\n"
     ]
    }
   ],
   "source": [
    "%%time\n",
    "ae_loss = []\n",
    "\n",
    "model.train()\n",
    "\n",
    "# train autoencoder\n",
    "for epoch in range(1):\n",
    "    temp_loss = 0\n",
    "    \n",
    "    for i in range(raw.shape[0]):\n",
    "        # build data pairs\n",
    "        inpt = record_formatter(raw.iloc[i])\n",
    "\n",
    "        # forward\n",
    "        otpt = model.autoencode(inpt)\n",
    "        loss = criterion(otpt, inpt)\n",
    "        \n",
    "        # backprop\n",
    "        optimizer.zero_grad()\n",
    "        loss.backward()\n",
    "        optimizer.step()\n",
    "        \n",
    "        # logging\n",
    "        temp_loss += loss\n",
    "\n",
    "    # logging\n",
    "    ae_loss.append(temp_loss.data[0]/raw.shape[0])"
   ]
  },
  {
   "cell_type": "code",
   "execution_count": 173,
   "metadata": {
    "collapsed": true
   },
   "outputs": [],
   "source": [
    "criterion = nn.NLLLoss()"
   ]
  },
  {
   "cell_type": "code",
   "execution_count": 174,
   "metadata": {
    "collapsed": false
   },
   "outputs": [
    {
     "name": "stdout",
     "output_type": "stream",
     "text": [
      "CPU times: user 3min 7s, sys: 5min 26s, total: 8min 34s\n",
      "Wall time: 1min 5s\n"
     ]
    }
   ],
   "source": [
    "%%time\n",
    "\n",
    "disc_loss = []\n",
    "diff = 1\n",
    "model.train()\n",
    "\n",
    "# train discriminator\n",
    "for epoch in range(1):\n",
    "    temp_loss = 0\n",
    "    \n",
    "    for i in range(raw.shape[0]-diff):\n",
    "        # build data pairs\n",
    "        inpt1 = model.encode(record_formatter(raw.iloc[i]))\n",
    "        inpt2 = model.encode(record_formatter(raw.iloc[i+diff]))\n",
    "        label = 1 if (raw.iloc[i]['Cluster ID'] == raw.iloc[i+diff]['Cluster ID']) else 0\n",
    "        label = Variable(torch.LongTensor([label]))\n",
    "        \n",
    "        # forward\n",
    "        otpt = model.discriminate(inpt1, inpt2)\n",
    "        loss = criterion(otpt, label)\n",
    "        \n",
    "        # backprop\n",
    "        optimizer.zero_grad()\n",
    "        loss.backward()\n",
    "        optimizer.step()\n",
    "        \n",
    "        # logging\n",
    "        temp_loss += loss\n",
    "\n",
    "    # logging\n",
    "    disc_loss.append(temp_loss.data[0]/raw.shape[0])"
   ]
  },
  {
   "cell_type": "markdown",
   "metadata": {},
   "source": [
    "Don't forget to Exp the output b/c LogSoftmax"
   ]
  },
  {
   "cell_type": "code",
   "execution_count": 175,
   "metadata": {
    "collapsed": false
   },
   "outputs": [
    {
     "data": {
      "text/plain": [
       "Variable containing:\n",
       " 0.4388  0.5612\n",
       "[torch.FloatTensor of size 1x2]"
      ]
     },
     "execution_count": 175,
     "metadata": {},
     "output_type": "execute_result"
    }
   ],
   "source": [
    "torch.exp(model.discriminate(inpt1, inpt2))"
   ]
  },
  {
   "cell_type": "code",
   "execution_count": 176,
   "metadata": {
    "collapsed": false
   },
   "outputs": [
    {
     "name": "stdout",
     "output_type": "stream",
     "text": [
      "ae loss = [314.7897326401782]\n",
      "disc ls = [315.39150111399925]\n"
     ]
    }
   ],
   "source": [
    "print('ae loss =', ae_loss)\n",
    "print('disc ls =', disc_loss)"
   ]
  },
  {
   "cell_type": "code",
   "execution_count": 124,
   "metadata": {
    "collapsed": false
   },
   "outputs": [
    {
     "data": {
      "text/plain": [
       "Variable containing:\n",
       " 2.3750e-13  1.0000e+00\n",
       "[torch.FloatTensor of size 1x2]"
      ]
     },
     "execution_count": 124,
     "metadata": {},
     "output_type": "execute_result"
    }
   ],
   "source": [
    "inpt1 = model.encode(record_formatter(raw.iloc[0]))\n",
    "inpt2 = model.encode(record_formatter(raw.iloc[4]))\n",
    "\n",
    "model.discriminate(inpt1, inpt2)"
   ]
  },
  {
   "cell_type": "code",
   "execution_count": 79,
   "metadata": {
    "collapsed": false
   },
   "outputs": [
    {
     "data": {
      "text/plain": [
       "SiameseNetwork (\n",
       "  (encoder): Sequential (\n",
       "    (0): Linear (154 -> 400)\n",
       "    (1): ReLU (inplace)\n",
       "    (2): Linear (400 -> 200)\n",
       "    (3): ReLU (inplace)\n",
       "    (4): Linear (200 -> 100)\n",
       "    (5): ReLU (inplace)\n",
       "    (6): Linear (100 -> 50)\n",
       "  )\n",
       "  (decoder): Sequential (\n",
       "    (0): Linear (50 -> 75)\n",
       "    (1): ReLU (inplace)\n",
       "    (2): Linear (75 -> 100)\n",
       "    (3): ReLU (inplace)\n",
       "    (4): Linear (100 -> 125)\n",
       "    (5): ReLU (inplace)\n",
       "    (6): Linear (125 -> 154)\n",
       "  )\n",
       "  (discriminator): Sequential (\n",
       "    (0): Linear (100 -> 100)\n",
       "    (1): ReLU (inplace)\n",
       "    (2): Linear (100 -> 50)\n",
       "    (3): ReLU (inplace)\n",
       "    (4): Linear (50 -> 2)\n",
       "    (5): Softmax ()\n",
       "  )\n",
       ")"
      ]
     },
     "execution_count": 79,
     "metadata": {},
     "output_type": "execute_result"
    }
   ],
   "source": [
    "model.eval()"
   ]
  },
  {
   "cell_type": "code",
   "execution_count": 75,
   "metadata": {
    "collapsed": false
   },
   "outputs": [
    {
     "data": {
      "text/plain": [
       "odict_keys(['fc1.0.weight', 'fc1.0.bias', 'fc1.2.weight', 'fc1.2.bias'])"
      ]
     },
     "execution_count": 75,
     "metadata": {},
     "output_type": "execute_result"
    }
   ],
   "source": [
    "model.state_dict().keys()"
   ]
  },
  {
   "cell_type": "code",
   "execution_count": 12,
   "metadata": {
    "collapsed": false
   },
   "outputs": [
    {
     "data": {
      "text/plain": [
       "torch.Size([1, 154])"
      ]
     },
     "execution_count": 12,
     "metadata": {},
     "output_type": "execute_result"
    }
   ],
   "source": [
    "inpt1.size()"
   ]
  },
  {
   "cell_type": "code",
   "execution_count": 13,
   "metadata": {
    "collapsed": false
   },
   "outputs": [
    {
     "data": {
      "text/plain": [
       "Variable containing:\n",
       "nan\n",
       "[torch.FloatTensor of size 1]"
      ]
     },
     "execution_count": 13,
     "metadata": {},
     "output_type": "execute_result"
    }
   ],
   "source": [
    "loss_calc"
   ]
  },
  {
   "cell_type": "code",
   "execution_count": 14,
   "metadata": {
    "collapsed": false
   },
   "outputs": [
    {
     "data": {
      "text/plain": [
       "(Variable containing:\n",
       " \n",
       " Columns 0 to 12 \n",
       "   nan   nan   nan   nan   nan   nan   nan   nan   nan   nan   nan   nan   nan\n",
       " \n",
       " Columns 13 to 25 \n",
       "   nan   nan   nan   nan   nan   nan   nan   nan   nan   nan   nan   nan   nan\n",
       " \n",
       " Columns 26 to 38 \n",
       "   nan   nan   nan   nan   nan   nan   nan   nan   nan   nan   nan   nan   nan\n",
       " \n",
       " Columns 39 to 51 \n",
       "   nan   nan   nan   nan   nan   nan   nan   nan   nan   nan   nan   nan   nan\n",
       " \n",
       " Columns 52 to 64 \n",
       "   nan   nan   nan   nan   nan   nan   nan   nan   nan   nan   nan   nan   nan\n",
       " \n",
       " Columns 65 to 77 \n",
       "   nan   nan   nan   nan   nan   nan   nan   nan   nan   nan   nan   nan   nan\n",
       " \n",
       " Columns 78 to 79 \n",
       "   nan   nan\n",
       " [torch.FloatTensor of size 1x80], Variable containing:\n",
       " \n",
       " Columns 0 to 12 \n",
       "   nan   nan   nan   nan   nan   nan   nan   nan   nan   nan   nan   nan   nan\n",
       " \n",
       " Columns 13 to 25 \n",
       "   nan   nan   nan   nan   nan   nan   nan   nan   nan   nan   nan   nan   nan\n",
       " \n",
       " Columns 26 to 38 \n",
       "   nan   nan   nan   nan   nan   nan   nan   nan   nan   nan   nan   nan   nan\n",
       " \n",
       " Columns 39 to 51 \n",
       "   nan   nan   nan   nan   nan   nan   nan   nan   nan   nan   nan   nan   nan\n",
       " \n",
       " Columns 52 to 64 \n",
       "   nan   nan   nan   nan   nan   nan   nan   nan   nan   nan   nan   nan   nan\n",
       " \n",
       " Columns 65 to 77 \n",
       "   nan   nan   nan   nan   nan   nan   nan   nan   nan   nan   nan   nan   nan\n",
       " \n",
       " Columns 78 to 79 \n",
       "   nan   nan\n",
       " [torch.FloatTensor of size 1x80])"
      ]
     },
     "execution_count": 14,
     "metadata": {},
     "output_type": "execute_result"
    }
   ],
   "source": [
    "model.forward(inpt1,inpt2)"
   ]
  },
  {
   "cell_type": "code",
   "execution_count": 14,
   "metadata": {
    "collapsed": false
   },
   "outputs": [
    {
     "ename": "ValueError",
     "evalue": "x and y can be no greater than 2-D, but have shapes (1,) and (1, 1, 1, 1, 1, 1, 1, 1, 1, 1, 1, 1, 1, 1, 1, 1, 1, 1, 1, 1, 1, 1, 1, 1, 1, 1, 1, 1, 1, 1, 1, 1)",
     "output_type": "error",
     "traceback": [
      "\u001b[0;31m---------------------------------------------------------------------------\u001b[0m",
      "\u001b[0;31mValueError\u001b[0m                                Traceback (most recent call last)",
      "\u001b[0;32m<ipython-input-14-e870b0f35dc1>\u001b[0m in \u001b[0;36m<module>\u001b[0;34m()\u001b[0m\n\u001b[0;32m----> 1\u001b[0;31m \u001b[0mplt\u001b[0m\u001b[0;34m.\u001b[0m\u001b[0mplot\u001b[0m\u001b[0;34m(\u001b[0m\u001b[0mloss_holder\u001b[0m\u001b[0;34m)\u001b[0m\u001b[0;34m\u001b[0m\u001b[0m\n\u001b[0m\u001b[1;32m      2\u001b[0m \u001b[0mplt\u001b[0m\u001b[0;34m.\u001b[0m\u001b[0mshow\u001b[0m\u001b[0;34m(\u001b[0m\u001b[0;34m)\u001b[0m\u001b[0;34m\u001b[0m\u001b[0m\n",
      "\u001b[0;32m/usr/local/lib/python3.5/dist-packages/matplotlib/pyplot.py\u001b[0m in \u001b[0;36mplot\u001b[0;34m(*args, **kwargs)\u001b[0m\n\u001b[1;32m   3238\u001b[0m                       mplDeprecation)\n\u001b[1;32m   3239\u001b[0m     \u001b[0;32mtry\u001b[0m\u001b[0;34m:\u001b[0m\u001b[0;34m\u001b[0m\u001b[0m\n\u001b[0;32m-> 3240\u001b[0;31m         \u001b[0mret\u001b[0m \u001b[0;34m=\u001b[0m \u001b[0max\u001b[0m\u001b[0;34m.\u001b[0m\u001b[0mplot\u001b[0m\u001b[0;34m(\u001b[0m\u001b[0;34m*\u001b[0m\u001b[0margs\u001b[0m\u001b[0;34m,\u001b[0m \u001b[0;34m**\u001b[0m\u001b[0mkwargs\u001b[0m\u001b[0;34m)\u001b[0m\u001b[0;34m\u001b[0m\u001b[0m\n\u001b[0m\u001b[1;32m   3241\u001b[0m     \u001b[0;32mfinally\u001b[0m\u001b[0;34m:\u001b[0m\u001b[0;34m\u001b[0m\u001b[0m\n\u001b[1;32m   3242\u001b[0m         \u001b[0max\u001b[0m\u001b[0;34m.\u001b[0m\u001b[0m_hold\u001b[0m \u001b[0;34m=\u001b[0m \u001b[0mwashold\u001b[0m\u001b[0;34m\u001b[0m\u001b[0m\n",
      "\u001b[0;32m/usr/local/lib/python3.5/dist-packages/matplotlib/__init__.py\u001b[0m in \u001b[0;36minner\u001b[0;34m(ax, *args, **kwargs)\u001b[0m\n\u001b[1;32m   1708\u001b[0m                     warnings.warn(msg % (label_namer, func.__name__),\n\u001b[1;32m   1709\u001b[0m                                   RuntimeWarning, stacklevel=2)\n\u001b[0;32m-> 1710\u001b[0;31m             \u001b[0;32mreturn\u001b[0m \u001b[0mfunc\u001b[0m\u001b[0;34m(\u001b[0m\u001b[0max\u001b[0m\u001b[0;34m,\u001b[0m \u001b[0;34m*\u001b[0m\u001b[0margs\u001b[0m\u001b[0;34m,\u001b[0m \u001b[0;34m**\u001b[0m\u001b[0mkwargs\u001b[0m\u001b[0;34m)\u001b[0m\u001b[0;34m\u001b[0m\u001b[0m\n\u001b[0m\u001b[1;32m   1711\u001b[0m         \u001b[0mpre_doc\u001b[0m \u001b[0;34m=\u001b[0m \u001b[0minner\u001b[0m\u001b[0;34m.\u001b[0m\u001b[0m__doc__\u001b[0m\u001b[0;34m\u001b[0m\u001b[0m\n\u001b[1;32m   1712\u001b[0m         \u001b[0;32mif\u001b[0m \u001b[0mpre_doc\u001b[0m \u001b[0;32mis\u001b[0m \u001b[0;32mNone\u001b[0m\u001b[0;34m:\u001b[0m\u001b[0;34m\u001b[0m\u001b[0m\n",
      "\u001b[0;32m/usr/local/lib/python3.5/dist-packages/matplotlib/axes/_axes.py\u001b[0m in \u001b[0;36mplot\u001b[0;34m(self, *args, **kwargs)\u001b[0m\n\u001b[1;32m   1435\u001b[0m         \u001b[0mkwargs\u001b[0m \u001b[0;34m=\u001b[0m \u001b[0mcbook\u001b[0m\u001b[0;34m.\u001b[0m\u001b[0mnormalize_kwargs\u001b[0m\u001b[0;34m(\u001b[0m\u001b[0mkwargs\u001b[0m\u001b[0;34m,\u001b[0m \u001b[0m_alias_map\u001b[0m\u001b[0;34m)\u001b[0m\u001b[0;34m\u001b[0m\u001b[0m\n\u001b[1;32m   1436\u001b[0m \u001b[0;34m\u001b[0m\u001b[0m\n\u001b[0;32m-> 1437\u001b[0;31m         \u001b[0;32mfor\u001b[0m \u001b[0mline\u001b[0m \u001b[0;32min\u001b[0m \u001b[0mself\u001b[0m\u001b[0;34m.\u001b[0m\u001b[0m_get_lines\u001b[0m\u001b[0;34m(\u001b[0m\u001b[0;34m*\u001b[0m\u001b[0margs\u001b[0m\u001b[0;34m,\u001b[0m \u001b[0;34m**\u001b[0m\u001b[0mkwargs\u001b[0m\u001b[0;34m)\u001b[0m\u001b[0;34m:\u001b[0m\u001b[0;34m\u001b[0m\u001b[0m\n\u001b[0m\u001b[1;32m   1438\u001b[0m             \u001b[0mself\u001b[0m\u001b[0;34m.\u001b[0m\u001b[0madd_line\u001b[0m\u001b[0;34m(\u001b[0m\u001b[0mline\u001b[0m\u001b[0;34m)\u001b[0m\u001b[0;34m\u001b[0m\u001b[0m\n\u001b[1;32m   1439\u001b[0m             \u001b[0mlines\u001b[0m\u001b[0;34m.\u001b[0m\u001b[0mappend\u001b[0m\u001b[0;34m(\u001b[0m\u001b[0mline\u001b[0m\u001b[0;34m)\u001b[0m\u001b[0;34m\u001b[0m\u001b[0m\n",
      "\u001b[0;32m/usr/local/lib/python3.5/dist-packages/matplotlib/axes/_base.py\u001b[0m in \u001b[0;36m_grab_next_args\u001b[0;34m(self, *args, **kwargs)\u001b[0m\n\u001b[1;32m    402\u001b[0m                 \u001b[0mthis\u001b[0m \u001b[0;34m+=\u001b[0m \u001b[0margs\u001b[0m\u001b[0;34m[\u001b[0m\u001b[0;36m0\u001b[0m\u001b[0;34m]\u001b[0m\u001b[0;34m,\u001b[0m\u001b[0;34m\u001b[0m\u001b[0m\n\u001b[1;32m    403\u001b[0m                 \u001b[0margs\u001b[0m \u001b[0;34m=\u001b[0m \u001b[0margs\u001b[0m\u001b[0;34m[\u001b[0m\u001b[0;36m1\u001b[0m\u001b[0;34m:\u001b[0m\u001b[0;34m]\u001b[0m\u001b[0;34m\u001b[0m\u001b[0m\n\u001b[0;32m--> 404\u001b[0;31m             \u001b[0;32mfor\u001b[0m \u001b[0mseg\u001b[0m \u001b[0;32min\u001b[0m \u001b[0mself\u001b[0m\u001b[0;34m.\u001b[0m\u001b[0m_plot_args\u001b[0m\u001b[0;34m(\u001b[0m\u001b[0mthis\u001b[0m\u001b[0;34m,\u001b[0m \u001b[0mkwargs\u001b[0m\u001b[0;34m)\u001b[0m\u001b[0;34m:\u001b[0m\u001b[0;34m\u001b[0m\u001b[0m\n\u001b[0m\u001b[1;32m    405\u001b[0m                 \u001b[0;32myield\u001b[0m \u001b[0mseg\u001b[0m\u001b[0;34m\u001b[0m\u001b[0m\n\u001b[1;32m    406\u001b[0m \u001b[0;34m\u001b[0m\u001b[0m\n",
      "\u001b[0;32m/usr/local/lib/python3.5/dist-packages/matplotlib/axes/_base.py\u001b[0m in \u001b[0;36m_plot_args\u001b[0;34m(self, tup, kwargs)\u001b[0m\n\u001b[1;32m    382\u001b[0m             \u001b[0mx\u001b[0m\u001b[0;34m,\u001b[0m \u001b[0my\u001b[0m \u001b[0;34m=\u001b[0m \u001b[0mindex_of\u001b[0m\u001b[0;34m(\u001b[0m\u001b[0mtup\u001b[0m\u001b[0;34m[\u001b[0m\u001b[0;34m-\u001b[0m\u001b[0;36m1\u001b[0m\u001b[0;34m]\u001b[0m\u001b[0;34m)\u001b[0m\u001b[0;34m\u001b[0m\u001b[0m\n\u001b[1;32m    383\u001b[0m \u001b[0;34m\u001b[0m\u001b[0m\n\u001b[0;32m--> 384\u001b[0;31m         \u001b[0mx\u001b[0m\u001b[0;34m,\u001b[0m \u001b[0my\u001b[0m \u001b[0;34m=\u001b[0m \u001b[0mself\u001b[0m\u001b[0;34m.\u001b[0m\u001b[0m_xy_from_xy\u001b[0m\u001b[0;34m(\u001b[0m\u001b[0mx\u001b[0m\u001b[0;34m,\u001b[0m \u001b[0my\u001b[0m\u001b[0;34m)\u001b[0m\u001b[0;34m\u001b[0m\u001b[0m\n\u001b[0m\u001b[1;32m    385\u001b[0m \u001b[0;34m\u001b[0m\u001b[0m\n\u001b[1;32m    386\u001b[0m         \u001b[0;32mif\u001b[0m \u001b[0mself\u001b[0m\u001b[0;34m.\u001b[0m\u001b[0mcommand\u001b[0m \u001b[0;34m==\u001b[0m \u001b[0;34m'plot'\u001b[0m\u001b[0;34m:\u001b[0m\u001b[0;34m\u001b[0m\u001b[0m\n",
      "\u001b[0;32m/usr/local/lib/python3.5/dist-packages/matplotlib/axes/_base.py\u001b[0m in \u001b[0;36m_xy_from_xy\u001b[0;34m(self, x, y)\u001b[0m\n\u001b[1;32m    244\u001b[0m         \u001b[0;32mif\u001b[0m \u001b[0mx\u001b[0m\u001b[0;34m.\u001b[0m\u001b[0mndim\u001b[0m \u001b[0;34m>\u001b[0m \u001b[0;36m2\u001b[0m \u001b[0;32mor\u001b[0m \u001b[0my\u001b[0m\u001b[0;34m.\u001b[0m\u001b[0mndim\u001b[0m \u001b[0;34m>\u001b[0m \u001b[0;36m2\u001b[0m\u001b[0;34m:\u001b[0m\u001b[0;34m\u001b[0m\u001b[0m\n\u001b[1;32m    245\u001b[0m             raise ValueError(\"x and y can be no greater than 2-D, but have \"\n\u001b[0;32m--> 246\u001b[0;31m                              \"shapes {} and {}\".format(x.shape, y.shape))\n\u001b[0m\u001b[1;32m    247\u001b[0m \u001b[0;34m\u001b[0m\u001b[0m\n\u001b[1;32m    248\u001b[0m         \u001b[0;32mif\u001b[0m \u001b[0mx\u001b[0m\u001b[0;34m.\u001b[0m\u001b[0mndim\u001b[0m \u001b[0;34m==\u001b[0m \u001b[0;36m1\u001b[0m\u001b[0;34m:\u001b[0m\u001b[0;34m\u001b[0m\u001b[0m\n",
      "\u001b[0;31mValueError\u001b[0m: x and y can be no greater than 2-D, but have shapes (1,) and (1, 1, 1, 1, 1, 1, 1, 1, 1, 1, 1, 1, 1, 1, 1, 1, 1, 1, 1, 1, 1, 1, 1, 1, 1, 1, 1, 1, 1, 1, 1, 1)"
     ]
    }
   ],
   "source": [
    "plt.plot(loss_holder)\n",
    "plt.show()"
   ]
  },
  {
   "cell_type": "code",
   "execution_count": 53,
   "metadata": {
    "collapsed": false
   },
   "outputs": [
    {
     "data": {
      "image/png": "[encoded data removed]",
      "text/plain": [
       "<matplotlib.figure.Figure at 0x7f53a1c294a8>"
      ]
     },
     "metadata": {},
     "output_type": "display_data"
    }
   ],
   "source": [
    "plt.plot(loss_holder[:raw.shape[0]])\n",
    "plt.show()"
   ]
  },
  {
   "cell_type": "code",
   "execution_count": 16,
   "metadata": {
    "collapsed": false
   },
   "outputs": [
    {
     "data": {
      "text/plain": [
       "OrderedDict([('fc1.0.weight', \n",
       "              1.00000e-02 *\n",
       "                  nan     nan     nan  ...      nan     nan     nan\n",
       "               7.3819 -4.0287 -6.9461  ...   6.9727  2.0407 -6.6162\n",
       "                  nan     nan     nan  ...      nan     nan     nan\n",
       "                        ...             ⋱             ...          \n",
       "                  nan     nan     nan  ...      nan     nan     nan\n",
       "                  nan     nan     nan  ...      nan     nan     nan\n",
       "                  nan     nan     nan  ...      nan     nan     nan\n",
       "              [torch.FloatTensor of size 100x154]), ('fc1.0.bias', \n",
       "              1.00000e-02 *\n",
       "                   nan\n",
       "               -0.4525\n",
       "                   nan\n",
       "                6.7199\n",
       "                   nan\n",
       "                   nan\n",
       "                   nan\n",
       "                   nan\n",
       "                   nan\n",
       "                   nan\n",
       "                   nan\n",
       "                   nan\n",
       "                   nan\n",
       "                   nan\n",
       "                   nan\n",
       "               -0.6064\n",
       "                   nan\n",
       "                   nan\n",
       "                4.0657\n",
       "                   nan\n",
       "               -5.9879\n",
       "                   nan\n",
       "                   nan\n",
       "                   nan\n",
       "                1.0131\n",
       "                   nan\n",
       "                   nan\n",
       "                   nan\n",
       "                   nan\n",
       "                3.0417\n",
       "                   nan\n",
       "                   nan\n",
       "                   nan\n",
       "                   nan\n",
       "               -3.8372\n",
       "                   nan\n",
       "                5.6243\n",
       "                6.3459\n",
       "                   nan\n",
       "                   nan\n",
       "                   nan\n",
       "                   nan\n",
       "                   nan\n",
       "                   nan\n",
       "                   nan\n",
       "                   nan\n",
       "                   nan\n",
       "                   nan\n",
       "                   nan\n",
       "                   nan\n",
       "                   nan\n",
       "                   nan\n",
       "               -6.9160\n",
       "                   nan\n",
       "               -1.7852\n",
       "                   nan\n",
       "                   nan\n",
       "               -4.3308\n",
       "                   nan\n",
       "                   nan\n",
       "                   nan\n",
       "               -1.5717\n",
       "                   nan\n",
       "                   nan\n",
       "                   nan\n",
       "                   nan\n",
       "                   nan\n",
       "                   nan\n",
       "               -0.9920\n",
       "                   nan\n",
       "               -6.7035\n",
       "                   nan\n",
       "                   nan\n",
       "                   nan\n",
       "                   nan\n",
       "                   nan\n",
       "                   nan\n",
       "                   nan\n",
       "                   nan\n",
       "                   nan\n",
       "                   nan\n",
       "                   nan\n",
       "                5.3907\n",
       "                   nan\n",
       "                   nan\n",
       "                   nan\n",
       "                   nan\n",
       "                   nan\n",
       "                   nan\n",
       "                   nan\n",
       "                   nan\n",
       "                   nan\n",
       "                   nan\n",
       "                   nan\n",
       "                   nan\n",
       "                0.4443\n",
       "                   nan\n",
       "                   nan\n",
       "                   nan\n",
       "                   nan\n",
       "              [torch.FloatTensor of size 100]), ('fc1.2.weight', \n",
       "                nan   nan   nan  ...    nan   nan   nan\n",
       "                nan   nan   nan  ...    nan   nan   nan\n",
       "                nan   nan   nan  ...    nan   nan   nan\n",
       "                     ...          ⋱          ...       \n",
       "                nan   nan   nan  ...    nan   nan   nan\n",
       "                nan   nan   nan  ...    nan   nan   nan\n",
       "                nan   nan   nan  ...    nan   nan   nan\n",
       "              [torch.FloatTensor of size 80x100]), ('fc1.2.bias', \n",
       "              nan\n",
       "              nan\n",
       "              nan\n",
       "              nan\n",
       "              nan\n",
       "              nan\n",
       "              nan\n",
       "              nan\n",
       "              nan\n",
       "              nan\n",
       "              nan\n",
       "              nan\n",
       "              nan\n",
       "              nan\n",
       "              nan\n",
       "              nan\n",
       "              nan\n",
       "              nan\n",
       "              nan\n",
       "              nan\n",
       "              nan\n",
       "              nan\n",
       "              nan\n",
       "              nan\n",
       "              nan\n",
       "              nan\n",
       "              nan\n",
       "              nan\n",
       "              nan\n",
       "              nan\n",
       "              nan\n",
       "              nan\n",
       "              nan\n",
       "              nan\n",
       "              nan\n",
       "              nan\n",
       "              nan\n",
       "              nan\n",
       "              nan\n",
       "              nan\n",
       "              nan\n",
       "              nan\n",
       "              nan\n",
       "              nan\n",
       "              nan\n",
       "              nan\n",
       "              nan\n",
       "              nan\n",
       "              nan\n",
       "              nan\n",
       "              nan\n",
       "              nan\n",
       "              nan\n",
       "              nan\n",
       "              nan\n",
       "              nan\n",
       "              nan\n",
       "              nan\n",
       "              nan\n",
       "              nan\n",
       "              nan\n",
       "              nan\n",
       "              nan\n",
       "              nan\n",
       "              nan\n",
       "              nan\n",
       "              nan\n",
       "              nan\n",
       "              nan\n",
       "              nan\n",
       "              nan\n",
       "              nan\n",
       "              nan\n",
       "              nan\n",
       "              nan\n",
       "              nan\n",
       "              nan\n",
       "              nan\n",
       "              nan\n",
       "              nan\n",
       "              [torch.FloatTensor of size 80])])"
      ]
     },
     "execution_count": 16,
     "metadata": {},
     "output_type": "execute_result"
    }
   ],
   "source": [
    "model.state_dict()"
   ]
  },
  {
   "cell_type": "code",
   "execution_count": null,
   "metadata": {
    "collapsed": true
   },
   "outputs": [],
   "source": []
  }
 ],
 "metadata": {
  "kernelspec": {
   "display_name": "Python 3",
   "language": "python",
   "name": "python3"
  },
  "language_info": {
   "codemirror_mode": {
    "name": "ipython",
    "version": 3
   },
   "file_extension": ".py",
   "mimetype": "text/x-python",
   "name": "python",
   "nbconvert_exporter": "python",
   "pygments_lexer": "ipython3",
   "version": "3.5.2"
  }
 },
 "nbformat": 4,
 "nbformat_minor": 1
}
