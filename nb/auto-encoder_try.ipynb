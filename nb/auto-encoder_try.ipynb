{
 "cells": [
  {
   "cell_type": "code",
   "execution_count": 1,
   "metadata": {
    "collapsed": true
   },
   "outputs": [],
   "source": [
    "import numpy as np\n",
    "import pandas as pd\n",
    "import torch\n",
    "import torch.nn as nn\n",
    "from torch.autograd import Variable\n",
    "import matplotlib.pyplot as plt"
   ]
  },
  {
   "cell_type": "code",
   "execution_count": 2,
   "metadata": {},
   "outputs": [
    {
     "data": {
      "text/html": [
       "<div>\n",
       "<style>\n",
       "    .dataframe thead tr:only-child th {\n",
       "        text-align: right;\n",
       "    }\n",
       "\n",
       "    .dataframe thead th {\n",
       "        text-align: left;\n",
       "    }\n",
       "\n",
       "    .dataframe tbody tr th {\n",
       "        vertical-align: top;\n",
       "    }\n",
       "</style>\n",
       "<table border=\"1\" class=\"dataframe\">\n",
       "  <thead>\n",
       "    <tr style=\"text-align: right;\">\n",
       "      <th></th>\n",
       "      <th>Cluster ID</th>\n",
       "      <th>Id</th>\n",
       "      <th>Site name</th>\n",
       "      <th>Address</th>\n",
       "      <th>Zip</th>\n",
       "      <th>Phone</th>\n",
       "    </tr>\n",
       "  </thead>\n",
       "  <tbody>\n",
       "    <tr>\n",
       "      <th>0</th>\n",
       "      <td>0</td>\n",
       "      <td>0</td>\n",
       "      <td>salvation army - temple / salvation army</td>\n",
       "      <td>1 n ogden ave</td>\n",
       "      <td>nan</td>\n",
       "      <td>2262649.0</td>\n",
       "    </tr>\n",
       "    <tr>\n",
       "      <th>1</th>\n",
       "      <td>0</td>\n",
       "      <td>1</td>\n",
       "      <td>salvation army - temple / salvation army</td>\n",
       "      <td>1 n ogden ave</td>\n",
       "      <td>nan</td>\n",
       "      <td>2262649.0</td>\n",
       "    </tr>\n",
       "    <tr>\n",
       "      <th>2</th>\n",
       "      <td>0</td>\n",
       "      <td>215</td>\n",
       "      <td>salvation army temple</td>\n",
       "      <td>1 n. ogden</td>\n",
       "      <td>nan</td>\n",
       "      <td>2262649.0</td>\n",
       "    </tr>\n",
       "    <tr>\n",
       "      <th>3</th>\n",
       "      <td>0</td>\n",
       "      <td>509</td>\n",
       "      <td>salvation army - temple / salvation army</td>\n",
       "      <td>1 n ogden ave</td>\n",
       "      <td>nan</td>\n",
       "      <td>2262649.0</td>\n",
       "    </tr>\n",
       "    <tr>\n",
       "      <th>4</th>\n",
       "      <td>0</td>\n",
       "      <td>510</td>\n",
       "      <td>salvation army - temple / salvation army</td>\n",
       "      <td>1 n ogden ave</td>\n",
       "      <td>nan</td>\n",
       "      <td>2262649.0</td>\n",
       "    </tr>\n",
       "    <tr>\n",
       "      <th>5</th>\n",
       "      <td>0</td>\n",
       "      <td>1225</td>\n",
       "      <td>salvation army - temple / salvation army</td>\n",
       "      <td>1 n ogden ave</td>\n",
       "      <td>nan</td>\n",
       "      <td>2262649.0</td>\n",
       "    </tr>\n",
       "    <tr>\n",
       "      <th>6</th>\n",
       "      <td>0</td>\n",
       "      <td>1226</td>\n",
       "      <td>salvation army - temple / salvation army</td>\n",
       "      <td>1 n ogden ave</td>\n",
       "      <td>nan</td>\n",
       "      <td>2262649.0</td>\n",
       "    </tr>\n",
       "    <tr>\n",
       "      <th>7</th>\n",
       "      <td>0</td>\n",
       "      <td>1879</td>\n",
       "      <td>salvation army temple</td>\n",
       "      <td>1 n ogden</td>\n",
       "      <td>60640.0</td>\n",
       "      <td>2262649.0</td>\n",
       "    </tr>\n",
       "    <tr>\n",
       "      <th>8</th>\n",
       "      <td>0</td>\n",
       "      <td>2758</td>\n",
       "      <td>salvation army temple</td>\n",
       "      <td>1 n. ogden</td>\n",
       "      <td>60607.0</td>\n",
       "      <td>2262649.0</td>\n",
       "    </tr>\n",
       "    <tr>\n",
       "      <th>9</th>\n",
       "      <td>0</td>\n",
       "      <td>3255</td>\n",
       "      <td>salvation army - chicago temple corps communit...</td>\n",
       "      <td>1 n ogden avenue</td>\n",
       "      <td>60607.0</td>\n",
       "      <td>2262649.0</td>\n",
       "    </tr>\n",
       "    <tr>\n",
       "      <th>10</th>\n",
       "      <td>1</td>\n",
       "      <td>2</td>\n",
       "      <td>national louis university - dr. effie o. ellis...</td>\n",
       "      <td>10 s kedzie ave</td>\n",
       "      <td>nan</td>\n",
       "      <td>5339011.0</td>\n",
       "    </tr>\n",
       "    <tr>\n",
       "      <th>11</th>\n",
       "      <td>1</td>\n",
       "      <td>3</td>\n",
       "      <td>national louis university - dr. effie o. ellis...</td>\n",
       "      <td>10 s kedzie ave</td>\n",
       "      <td>nan</td>\n",
       "      <td>5339011.0</td>\n",
       "    </tr>\n",
       "    <tr>\n",
       "      <th>12</th>\n",
       "      <td>1</td>\n",
       "      <td>216</td>\n",
       "      <td>national louis university-dr. effie o. ellis h...</td>\n",
       "      <td>10 s. kedzie</td>\n",
       "      <td>nan</td>\n",
       "      <td>5339011.0</td>\n",
       "    </tr>\n",
       "    <tr>\n",
       "      <th>13</th>\n",
       "      <td>1</td>\n",
       "      <td>511</td>\n",
       "      <td>national louis university - dr. effie o. ellis...</td>\n",
       "      <td>10 s kedzie ave</td>\n",
       "      <td>nan</td>\n",
       "      <td>5339011.0</td>\n",
       "    </tr>\n",
       "    <tr>\n",
       "      <th>14</th>\n",
       "      <td>1</td>\n",
       "      <td>512</td>\n",
       "      <td>national louis university - dr. effie o. ellis...</td>\n",
       "      <td>10 s kedzie ave</td>\n",
       "      <td>nan</td>\n",
       "      <td>5339011.0</td>\n",
       "    </tr>\n",
       "  </tbody>\n",
       "</table>\n",
       "</div>"
      ],
      "text/plain": [
       "    Cluster ID    Id                                          Site name  \\\n",
       "0            0     0           salvation army - temple / salvation army   \n",
       "1            0     1           salvation army - temple / salvation army   \n",
       "2            0   215                              salvation army temple   \n",
       "3            0   509           salvation army - temple / salvation army   \n",
       "4            0   510           salvation army - temple / salvation army   \n",
       "5            0  1225           salvation army - temple / salvation army   \n",
       "6            0  1226           salvation army - temple / salvation army   \n",
       "7            0  1879                              salvation army temple   \n",
       "8            0  2758                              salvation army temple   \n",
       "9            0  3255  salvation army - chicago temple corps communit...   \n",
       "10           1     2  national louis university - dr. effie o. ellis...   \n",
       "11           1     3  national louis university - dr. effie o. ellis...   \n",
       "12           1   216  national louis university-dr. effie o. ellis h...   \n",
       "13           1   511  national louis university - dr. effie o. ellis...   \n",
       "14           1   512  national louis university - dr. effie o. ellis...   \n",
       "\n",
       "             Address      Zip      Phone  \n",
       "0      1 n ogden ave      nan  2262649.0  \n",
       "1      1 n ogden ave      nan  2262649.0  \n",
       "2         1 n. ogden      nan  2262649.0  \n",
       "3      1 n ogden ave      nan  2262649.0  \n",
       "4      1 n ogden ave      nan  2262649.0  \n",
       "5      1 n ogden ave      nan  2262649.0  \n",
       "6      1 n ogden ave      nan  2262649.0  \n",
       "7          1 n ogden  60640.0  2262649.0  \n",
       "8         1 n. ogden  60607.0  2262649.0  \n",
       "9   1 n ogden avenue  60607.0  2262649.0  \n",
       "10   10 s kedzie ave      nan  5339011.0  \n",
       "11   10 s kedzie ave      nan  5339011.0  \n",
       "12      10 s. kedzie      nan  5339011.0  \n",
       "13   10 s kedzie ave      nan  5339011.0  \n",
       "14   10 s kedzie ave      nan  5339011.0  "
      ]
     },
     "execution_count": 2,
     "metadata": {},
     "output_type": "execute_result"
    }
   ],
   "source": [
    "raw = pd.read_csv('../dat/schools_w_clusters.csv')\n",
    "raw = raw[['Cluster ID', 'Id', 'Site name', 'Address', 'Zip', 'Phone']]\n",
    "raw['Zip'] = raw['Zip'].astype(str)\n",
    "raw['Phone'] = raw['Phone'].astype(str)\n",
    "raw.head(15)"
   ]
  },
  {
   "cell_type": "code",
   "execution_count": 3,
   "metadata": {},
   "outputs": [
    {
     "name": "stdout",
     "output_type": "stream",
     "text": [
      "name max len = 95\n",
      "address max len = 43\n",
      "Zip max len = 7\n",
      "phone max len = 9\n"
     ]
    }
   ],
   "source": [
    "print('name max len =', raw['Site name'].str.len().max())\n",
    "print('address max len =', raw['Address'].str.len().max())\n",
    "print('Zip max len =', raw['Zip'].str.len().max())\n",
    "print('phone max len =', raw['Phone'].str.len().max())"
   ]
  },
  {
   "cell_type": "markdown",
   "metadata": {},
   "source": [
    "for a total of max length 154"
   ]
  },
  {
   "cell_type": "markdown",
   "metadata": {},
   "source": [
    "## defs\n",
    "The following insanity is how we need to convert into a useable Torch tensor of correct size and Variable...ness."
   ]
  },
  {
   "cell_type": "code",
   "execution_count": 4,
   "metadata": {},
   "outputs": [
    {
     "data": {
      "text/plain": [
       "Variable containing:\n",
       " 0.0174  0.7472  0.9665  0.9863  0.0198  0.1180  0.0341  0.8705  0.3134  0.1485\n",
       "[torch.FloatTensor of size 1x10]"
      ]
     },
     "execution_count": 4,
     "metadata": {},
     "output_type": "execute_result"
    }
   ],
   "source": [
    "Variable(torch.from_numpy(np.random.rand(10)).float()).view(1,10)"
   ]
  },
  {
   "cell_type": "code",
   "execution_count": 5,
   "metadata": {
    "collapsed": true
   },
   "outputs": [],
   "source": [
    "def extend_to_length(string_to_expand, length):\n",
    "    extension = '~' * (length-len(string_to_expand))\n",
    "    return string_to_expand + extension\n",
    "\n",
    "def record_formatter(record):\n",
    "    name = extend_to_length(record['Site name'], 95)\n",
    "    addr = extend_to_length(record['Address'], 43)\n",
    "    zipp = extend_to_length(record['Zip'], 7)\n",
    "    phon = extend_to_length(record['Phone'], 9)\n",
    "    \n",
    "    strings = list(''.join((name, addr, zipp, phon)))\n",
    "    characters = np.array(list(map(ord, strings)))\n",
    "    \n",
    "    return Variable(torch.from_numpy(characters).float()).view(1,len(characters))"
   ]
  },
  {
   "cell_type": "code",
   "execution_count": 26,
   "metadata": {},
   "outputs": [],
   "source": [
    "class SiameseNetwork(nn.Module):\n",
    "    def __init__(self, v_size=154, enc_size=50):\n",
    "        super(SiameseNetwork, self).__init__()\n",
    "        \n",
    "        self.encoder = nn.Sequential(\n",
    "            nn.Linear(v_size, 400),\n",
    "            nn.ReLU(True),\n",
    "            nn.Linear(400, 200),\n",
    "            nn.ReLU(True),\n",
    "            nn.Linear(200, 100),\n",
    "            nn.ReLU(True),\n",
    "            nn.Linear(100, enc_size)\n",
    "        )\n",
    "        \n",
    "        self.decoder = nn.Sequential(\n",
    "            nn.Linear(enc_size, 75),\n",
    "            nn.ReLU(True),\n",
    "            nn.Linear(75, 100),\n",
    "            nn.ReLU(True),\n",
    "            nn.Linear(100, 125),\n",
    "            nn.ReLU(True),\n",
    "            nn.Linear(125, v_size)\n",
    "        )\n",
    "        \n",
    "        self.discriminator = nn.Sequential(\n",
    "            nn.Linear(v_size*2, 100),\n",
    "            nn.ReLU(True),\n",
    "            nn.Linear(100, 50),\n",
    "            nn.ReLU(True),\n",
    "            nn.Linear(50,2),\n",
    "            nn.Softmax(dim=1)\n",
    "        )\n",
    "\n",
    "    def discriminate(self, input1, input2):\n",
    "        output = self.discriminator(torch.cat([input1, input2], dim=1))\n",
    "        return output\n",
    "    \n",
    "    def autoencode(self, vector):\n",
    "        return self.decoder(self.encoder(vector))"
   ]
  },
  {
   "cell_type": "code",
   "execution_count": 30,
   "metadata": {},
   "outputs": [
    {
     "data": {
      "text/plain": [
       "Variable containing:\n",
       " 0.0628  0.9372\n",
       "[torch.FloatTensor of size 1x2]"
      ]
     },
     "execution_count": 30,
     "metadata": {},
     "output_type": "execute_result"
    }
   ],
   "source": [
    "inpt1 = record_formatter(raw.iloc[0])\n",
    "inpt2 = record_formatter(raw.iloc[7])\n",
    "\n",
    "model.discriminate(inpt1,inpt2)"
   ]
  },
  {
   "cell_type": "markdown",
   "metadata": {},
   "source": [
    "## data characteristics"
   ]
  },
  {
   "cell_type": "code",
   "execution_count": 7,
   "metadata": {},
   "outputs": [
    {
     "data": {
      "text/plain": [
       "(2693, 6)"
      ]
     },
     "execution_count": 7,
     "metadata": {},
     "output_type": "execute_result"
    }
   ],
   "source": [
    "raw.shape"
   ]
  },
  {
   "cell_type": "code",
   "execution_count": 8,
   "metadata": {},
   "outputs": [
    {
     "data": {
      "text/plain": [
       "(740,)"
      ]
     },
     "execution_count": 8,
     "metadata": {},
     "output_type": "execute_result"
    }
   ],
   "source": [
    "raw['Cluster ID'].unique().shape"
   ]
  },
  {
   "cell_type": "markdown",
   "metadata": {},
   "source": [
    "## training"
   ]
  },
  {
   "cell_type": "code",
   "execution_count": 27,
   "metadata": {
    "collapsed": true
   },
   "outputs": [],
   "source": [
    "model = SiameseNetwork()\n",
    "criterion = nn.MSELoss()\n",
    "optimizer = torch.optim.Adam(model.parameters(), lr=0.001, weight_decay=1e-5)"
   ]
  },
  {
   "cell_type": "code",
   "execution_count": 130,
   "metadata": {},
   "outputs": [
    {
     "name": "stdout",
     "output_type": "stream",
     "text": [
      "loss for epoch 0 is 9801.164808633737\n",
      "loss for epoch 1 is 9834.950611713342\n",
      "loss for epoch 2 is 9834.950611713342\n",
      "loss for epoch 3 is 9834.950611713342\n",
      "loss for epoch 4 is 9834.950611713342\n",
      "loss for epoch 5 is 9834.950611713342\n",
      "loss for epoch 6 is 9834.950611713342\n",
      "loss for epoch 7 is 9834.950611713342\n",
      "loss for epoch 8 is 9834.950611713342\n",
      "loss for epoch 9 is 9834.950611713342\n",
      "CPU times: user 1min 20s, sys: 236 ms, total: 1min 20s\n",
      "Wall time: 20.2 s\n"
     ]
    }
   ],
   "source": [
    "%%time\n",
    "diff = 10\n",
    "loss_holder = []\n",
    "\n",
    "model.train()\n",
    "\n",
    "for epoch in range(10):\n",
    "    for i in range(raw.shape[0]-diff):\n",
    "        # build data pairs\n",
    "        inpt1 = record_formatter(raw.iloc[i])\n",
    "        inpt2 = record_formatter(raw.iloc[i+diff])\n",
    "        label = 1 if (raw.iloc[i]['Cluster ID'] == raw.iloc[i+diff]['Cluster ID']) else 0\n",
    "        \n",
    "        # forward\n",
    "        otpt1, otpt2 = model.forward(inpt1, inpt2)\n",
    "        optimizer.zero_grad()\n",
    "        loss_calc = loss.forward(otpt1, otpt2, label)\n",
    "        # reassign loss requiring gradient\n",
    "        loss_calc = Variable(loss_calc.data, requires_grad=True)\n",
    "        \n",
    "        # backprop\n",
    "        loss_calc.backward()\n",
    "        optimizer.step()\n",
    "        \n",
    "        # console.log\n",
    "        loss_holder.append(loss_calc.data[0])\n",
    "        #print(label)\n",
    "        if i == raw.shape[0]-diff-1:\n",
    "            print('loss for epoch', epoch, 'is',\n",
    "                  sum(loss_holder[-raw.shape[0]:]))\n",
    "        \n",
    "model.eval()"
   ]
  },
  {
   "cell_type": "code",
   "execution_count": 75,
   "metadata": {},
   "outputs": [
    {
     "data": {
      "text/plain": [
       "odict_keys(['fc1.0.weight', 'fc1.0.bias', 'fc1.2.weight', 'fc1.2.bias'])"
      ]
     },
     "execution_count": 75,
     "metadata": {},
     "output_type": "execute_result"
    }
   ],
   "source": [
    "model.state_dict().keys()"
   ]
  },
  {
   "cell_type": "code",
   "execution_count": 12,
   "metadata": {},
   "outputs": [
    {
     "data": {
      "text/plain": [
       "torch.Size([1, 154])"
      ]
     },
     "execution_count": 12,
     "metadata": {},
     "output_type": "execute_result"
    }
   ],
   "source": [
    "inpt1.size()"
   ]
  },
  {
   "cell_type": "code",
   "execution_count": 13,
   "metadata": {},
   "outputs": [
    {
     "data": {
      "text/plain": [
       "Variable containing:\n",
       "nan\n",
       "[torch.FloatTensor of size 1]"
      ]
     },
     "execution_count": 13,
     "metadata": {},
     "output_type": "execute_result"
    }
   ],
   "source": [
    "loss_calc"
   ]
  },
  {
   "cell_type": "code",
   "execution_count": 14,
   "metadata": {},
   "outputs": [
    {
     "data": {
      "text/plain": [
       "(Variable containing:\n",
       " \n",
       " Columns 0 to 12 \n",
       "   nan   nan   nan   nan   nan   nan   nan   nan   nan   nan   nan   nan   nan\n",
       " \n",
       " Columns 13 to 25 \n",
       "   nan   nan   nan   nan   nan   nan   nan   nan   nan   nan   nan   nan   nan\n",
       " \n",
       " Columns 26 to 38 \n",
       "   nan   nan   nan   nan   nan   nan   nan   nan   nan   nan   nan   nan   nan\n",
       " \n",
       " Columns 39 to 51 \n",
       "   nan   nan   nan   nan   nan   nan   nan   nan   nan   nan   nan   nan   nan\n",
       " \n",
       " Columns 52 to 64 \n",
       "   nan   nan   nan   nan   nan   nan   nan   nan   nan   nan   nan   nan   nan\n",
       " \n",
       " Columns 65 to 77 \n",
       "   nan   nan   nan   nan   nan   nan   nan   nan   nan   nan   nan   nan   nan\n",
       " \n",
       " Columns 78 to 79 \n",
       "   nan   nan\n",
       " [torch.FloatTensor of size 1x80], Variable containing:\n",
       " \n",
       " Columns 0 to 12 \n",
       "   nan   nan   nan   nan   nan   nan   nan   nan   nan   nan   nan   nan   nan\n",
       " \n",
       " Columns 13 to 25 \n",
       "   nan   nan   nan   nan   nan   nan   nan   nan   nan   nan   nan   nan   nan\n",
       " \n",
       " Columns 26 to 38 \n",
       "   nan   nan   nan   nan   nan   nan   nan   nan   nan   nan   nan   nan   nan\n",
       " \n",
       " Columns 39 to 51 \n",
       "   nan   nan   nan   nan   nan   nan   nan   nan   nan   nan   nan   nan   nan\n",
       " \n",
       " Columns 52 to 64 \n",
       "   nan   nan   nan   nan   nan   nan   nan   nan   nan   nan   nan   nan   nan\n",
       " \n",
       " Columns 65 to 77 \n",
       "   nan   nan   nan   nan   nan   nan   nan   nan   nan   nan   nan   nan   nan\n",
       " \n",
       " Columns 78 to 79 \n",
       "   nan   nan\n",
       " [torch.FloatTensor of size 1x80])"
      ]
     },
     "execution_count": 14,
     "metadata": {},
     "output_type": "execute_result"
    }
   ],
   "source": [
    "model.forward(inpt1,inpt2)"
   ]
  },
  {
   "cell_type": "code",
   "execution_count": 108,
   "metadata": {},
   "outputs": [
    {
     "data": {
      "image/png": "[encoded data removed]",
      "text/plain": [
       "<matplotlib.figure.Figure at 0x7f539c1c89b0>"
      ]
     },
     "metadata": {},
     "output_type": "display_data"
    }
   ],
   "source": [
    "plt.plot(loss_holder)\n",
    "plt.show()"
   ]
  },
  {
   "cell_type": "code",
   "execution_count": 53,
   "metadata": {},
   "outputs": [
    {
     "data": {
      "image/png": "[encoded data removed]",
      "text/plain": [
       "<matplotlib.figure.Figure at 0x7f53a1c294a8>"
      ]
     },
     "metadata": {},
     "output_type": "display_data"
    }
   ],
   "source": [
    "plt.plot(loss_holder[:raw.shape[0]])\n",
    "plt.show()"
   ]
  },
  {
   "cell_type": "code",
   "execution_count": 16,
   "metadata": {},
   "outputs": [
    {
     "data": {
      "text/plain": [
       "OrderedDict([('fc1.0.weight', \n",
       "              1.00000e-02 *\n",
       "                  nan     nan     nan  ...      nan     nan     nan\n",
       "               7.3819 -4.0287 -6.9461  ...   6.9727  2.0407 -6.6162\n",
       "                  nan     nan     nan  ...      nan     nan     nan\n",
       "                        ...             ⋱             ...          \n",
       "                  nan     nan     nan  ...      nan     nan     nan\n",
       "                  nan     nan     nan  ...      nan     nan     nan\n",
       "                  nan     nan     nan  ...      nan     nan     nan\n",
       "              [torch.FloatTensor of size 100x154]), ('fc1.0.bias', \n",
       "              1.00000e-02 *\n",
       "                   nan\n",
       "               -0.4525\n",
       "                   nan\n",
       "                6.7199\n",
       "                   nan\n",
       "                   nan\n",
       "                   nan\n",
       "                   nan\n",
       "                   nan\n",
       "                   nan\n",
       "                   nan\n",
       "                   nan\n",
       "                   nan\n",
       "                   nan\n",
       "                   nan\n",
       "               -0.6064\n",
       "                   nan\n",
       "                   nan\n",
       "                4.0657\n",
       "                   nan\n",
       "               -5.9879\n",
       "                   nan\n",
       "                   nan\n",
       "                   nan\n",
       "                1.0131\n",
       "                   nan\n",
       "                   nan\n",
       "                   nan\n",
       "                   nan\n",
       "                3.0417\n",
       "                   nan\n",
       "                   nan\n",
       "                   nan\n",
       "                   nan\n",
       "               -3.8372\n",
       "                   nan\n",
       "                5.6243\n",
       "                6.3459\n",
       "                   nan\n",
       "                   nan\n",
       "                   nan\n",
       "                   nan\n",
       "                   nan\n",
       "                   nan\n",
       "                   nan\n",
       "                   nan\n",
       "                   nan\n",
       "                   nan\n",
       "                   nan\n",
       "                   nan\n",
       "                   nan\n",
       "                   nan\n",
       "               -6.9160\n",
       "                   nan\n",
       "               -1.7852\n",
       "                   nan\n",
       "                   nan\n",
       "               -4.3308\n",
       "                   nan\n",
       "                   nan\n",
       "                   nan\n",
       "               -1.5717\n",
       "                   nan\n",
       "                   nan\n",
       "                   nan\n",
       "                   nan\n",
       "                   nan\n",
       "                   nan\n",
       "               -0.9920\n",
       "                   nan\n",
       "               -6.7035\n",
       "                   nan\n",
       "                   nan\n",
       "                   nan\n",
       "                   nan\n",
       "                   nan\n",
       "                   nan\n",
       "                   nan\n",
       "                   nan\n",
       "                   nan\n",
       "                   nan\n",
       "                   nan\n",
       "                5.3907\n",
       "                   nan\n",
       "                   nan\n",
       "                   nan\n",
       "                   nan\n",
       "                   nan\n",
       "                   nan\n",
       "                   nan\n",
       "                   nan\n",
       "                   nan\n",
       "                   nan\n",
       "                   nan\n",
       "                   nan\n",
       "                0.4443\n",
       "                   nan\n",
       "                   nan\n",
       "                   nan\n",
       "                   nan\n",
       "              [torch.FloatTensor of size 100]), ('fc1.2.weight', \n",
       "                nan   nan   nan  ...    nan   nan   nan\n",
       "                nan   nan   nan  ...    nan   nan   nan\n",
       "                nan   nan   nan  ...    nan   nan   nan\n",
       "                     ...          ⋱          ...       \n",
       "                nan   nan   nan  ...    nan   nan   nan\n",
       "                nan   nan   nan  ...    nan   nan   nan\n",
       "                nan   nan   nan  ...    nan   nan   nan\n",
       "              [torch.FloatTensor of size 80x100]), ('fc1.2.bias', \n",
       "              nan\n",
       "              nan\n",
       "              nan\n",
       "              nan\n",
       "              nan\n",
       "              nan\n",
       "              nan\n",
       "              nan\n",
       "              nan\n",
       "              nan\n",
       "              nan\n",
       "              nan\n",
       "              nan\n",
       "              nan\n",
       "              nan\n",
       "              nan\n",
       "              nan\n",
       "              nan\n",
       "              nan\n",
       "              nan\n",
       "              nan\n",
       "              nan\n",
       "              nan\n",
       "              nan\n",
       "              nan\n",
       "              nan\n",
       "              nan\n",
       "              nan\n",
       "              nan\n",
       "              nan\n",
       "              nan\n",
       "              nan\n",
       "              nan\n",
       "              nan\n",
       "              nan\n",
       "              nan\n",
       "              nan\n",
       "              nan\n",
       "              nan\n",
       "              nan\n",
       "              nan\n",
       "              nan\n",
       "              nan\n",
       "              nan\n",
       "              nan\n",
       "              nan\n",
       "              nan\n",
       "              nan\n",
       "              nan\n",
       "              nan\n",
       "              nan\n",
       "              nan\n",
       "              nan\n",
       "              nan\n",
       "              nan\n",
       "              nan\n",
       "              nan\n",
       "              nan\n",
       "              nan\n",
       "              nan\n",
       "              nan\n",
       "              nan\n",
       "              nan\n",
       "              nan\n",
       "              nan\n",
       "              nan\n",
       "              nan\n",
       "              nan\n",
       "              nan\n",
       "              nan\n",
       "              nan\n",
       "              nan\n",
       "              nan\n",
       "              nan\n",
       "              nan\n",
       "              nan\n",
       "              nan\n",
       "              nan\n",
       "              nan\n",
       "              nan\n",
       "              [torch.FloatTensor of size 80])])"
      ]
     },
     "execution_count": 16,
     "metadata": {},
     "output_type": "execute_result"
    }
   ],
   "source": [
    "model.state_dict()"
   ]
  },
  {
   "cell_type": "code",
   "execution_count": null,
   "metadata": {
    "collapsed": true
   },
   "outputs": [],
   "source": []
  }
 ],
 "metadata": {
  "kernelspec": {
   "display_name": "Python 3",
   "language": "python",
   "name": "python3"
  },
  "language_info": {
   "codemirror_mode": {
    "name": "ipython",
    "version": 3
   },
   "file_extension": ".py",
   "mimetype": "text/x-python",
   "name": "python",
   "nbconvert_exporter": "python",
   "pygments_lexer": "ipython3",
   "version": "3.6.2"
  }
 },
 "nbformat": 4,
 "nbformat_minor": 1
}
