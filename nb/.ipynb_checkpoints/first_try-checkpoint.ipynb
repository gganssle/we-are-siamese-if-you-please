{
 "cells": [
  {
   "cell_type": "code",
   "execution_count": 1,
   "metadata": {
    "collapsed": true
   },
   "outputs": [],
   "source": [
    "import numpy as np\n",
    "import pandas as pd\n",
    "import torch\n",
    "import torch.nn as nn\n",
    "from torch.autograd import Variable\n",
    "import matplotlib.pyplot as plt\n"
   ]
  },
  {
   "cell_type": "code",
   "execution_count": 2,
   "metadata": {
    "collapsed": false
   },
   "outputs": [
    {
     "data": {
      "text/html": [
       "<div>\n",
       "<table border=\"1\" class=\"dataframe\">\n",
       "  <thead>\n",
       "    <tr style=\"text-align: right;\">\n",
       "      <th></th>\n",
       "      <th>Cluster ID</th>\n",
       "      <th>Id</th>\n",
       "      <th>Site name</th>\n",
       "      <th>Address</th>\n",
       "      <th>Zip</th>\n",
       "      <th>Phone</th>\n",
       "    </tr>\n",
       "  </thead>\n",
       "  <tbody>\n",
       "    <tr>\n",
       "      <th>0</th>\n",
       "      <td>0</td>\n",
       "      <td>0</td>\n",
       "      <td>salvation army - temple / salvation army</td>\n",
       "      <td>1 n ogden ave</td>\n",
       "      <td>nan</td>\n",
       "      <td>2262649.0</td>\n",
       "    </tr>\n",
       "    <tr>\n",
       "      <th>1</th>\n",
       "      <td>0</td>\n",
       "      <td>1</td>\n",
       "      <td>salvation army - temple / salvation army</td>\n",
       "      <td>1 n ogden ave</td>\n",
       "      <td>nan</td>\n",
       "      <td>2262649.0</td>\n",
       "    </tr>\n",
       "    <tr>\n",
       "      <th>2</th>\n",
       "      <td>0</td>\n",
       "      <td>215</td>\n",
       "      <td>salvation army temple</td>\n",
       "      <td>1 n. ogden</td>\n",
       "      <td>nan</td>\n",
       "      <td>2262649.0</td>\n",
       "    </tr>\n",
       "    <tr>\n",
       "      <th>3</th>\n",
       "      <td>0</td>\n",
       "      <td>509</td>\n",
       "      <td>salvation army - temple / salvation army</td>\n",
       "      <td>1 n ogden ave</td>\n",
       "      <td>nan</td>\n",
       "      <td>2262649.0</td>\n",
       "    </tr>\n",
       "    <tr>\n",
       "      <th>4</th>\n",
       "      <td>0</td>\n",
       "      <td>510</td>\n",
       "      <td>salvation army - temple / salvation army</td>\n",
       "      <td>1 n ogden ave</td>\n",
       "      <td>nan</td>\n",
       "      <td>2262649.0</td>\n",
       "    </tr>\n",
       "  </tbody>\n",
       "</table>\n",
       "</div>"
      ],
      "text/plain": [
       "   Cluster ID   Id                                 Site name        Address  \\\n",
       "0           0    0  salvation army - temple / salvation army  1 n ogden ave   \n",
       "1           0    1  salvation army - temple / salvation army  1 n ogden ave   \n",
       "2           0  215                     salvation army temple     1 n. ogden   \n",
       "3           0  509  salvation army - temple / salvation army  1 n ogden ave   \n",
       "4           0  510  salvation army - temple / salvation army  1 n ogden ave   \n",
       "\n",
       "   Zip      Phone  \n",
       "0  nan  2262649.0  \n",
       "1  nan  2262649.0  \n",
       "2  nan  2262649.0  \n",
       "3  nan  2262649.0  \n",
       "4  nan  2262649.0  "
      ]
     },
     "execution_count": 2,
     "metadata": {},
     "output_type": "execute_result"
    }
   ],
   "source": [
    "raw = pd.read_csv('../dat/schools_w_clusters.csv')\n",
    "raw = raw[['Cluster ID', 'Id', 'Site name', 'Address', 'Zip', 'Phone']]\n",
    "raw['Zip'] = raw['Zip'].astype(str)\n",
    "raw['Phone'] = raw['Phone'].astype(str)\n",
    "raw.head()"
   ]
  },
  {
   "cell_type": "code",
   "execution_count": 3,
   "metadata": {
    "collapsed": false
   },
   "outputs": [
    {
     "name": "stdout",
     "output_type": "stream",
     "text": [
      "name max len = 95\n",
      "address max len = 43\n",
      "Zip max len = 7\n",
      "phone max len = 9\n"
     ]
    }
   ],
   "source": [
    "print('name max len =', raw['Site name'].str.len().max())\n",
    "print('address max len =', raw['Address'].str.len().max())\n",
    "print('Zip max len =', raw['Zip'].str.len().max())\n",
    "print('phone max len =', raw['Phone'].str.len().max())"
   ]
  },
  {
   "cell_type": "markdown",
   "metadata": {},
   "source": [
    "for a total of max length 154"
   ]
  },
  {
   "cell_type": "markdown",
   "metadata": {},
   "source": [
    "## defs\n",
    "The following insanity is how we need to convert into a useable Torch tensor of correct size and Variable...ness."
   ]
  },
  {
   "cell_type": "code",
   "execution_count": 4,
   "metadata": {
    "collapsed": false
   },
   "outputs": [
    {
     "data": {
      "text/plain": [
       "Variable containing:\n",
       " 0.3975  0.0703  0.8826  0.8491  0.0714  0.6431  0.4122  0.3285  0.9021  0.4548\n",
       "[torch.FloatTensor of size 1x10]"
      ]
     },
     "execution_count": 4,
     "metadata": {},
     "output_type": "execute_result"
    }
   ],
   "source": [
    "Variable(torch.from_numpy(np.random.rand(10)).float()).view(1,10)"
   ]
  },
  {
   "cell_type": "code",
   "execution_count": 5,
   "metadata": {
    "collapsed": true
   },
   "outputs": [],
   "source": [
    "def extend_to_length(string_to_expand, length):\n",
    "    extension = '~' * (length-len(string_to_expand))\n",
    "    return string_to_expand + extension\n",
    "\n",
    "def record_formatter(record):\n",
    "    name = extend_to_length(record['Site name'], 95)\n",
    "    addr = extend_to_length(record['Address'], 43)\n",
    "    zipp = extend_to_length(record['Zip'], 7)\n",
    "    phon = extend_to_length(record['Phone'], 9)\n",
    "    \n",
    "    strings = list(''.join((name, addr, zipp, phon)))\n",
    "    characters = np.array(list(map(ord, strings)))\n",
    "    \n",
    "    return Variable(torch.from_numpy(characters).float()).view(1,len(characters))"
   ]
  },
  {
   "cell_type": "code",
   "execution_count": 6,
   "metadata": {
    "collapsed": true
   },
   "outputs": [],
   "source": [
    "class SiameseNetwork(nn.Module):\n",
    "    def __init__(self):\n",
    "        super(SiameseNetwork, self).__init__()\n",
    "        self.fc1 = nn.Sequential(\n",
    "            nn.Linear(154,100),\n",
    "            nn.ReLU(inplace=True),\n",
    "            nn.Linear(100, 80))\n",
    "\n",
    "    def forward_once(self, x):\n",
    "        return self.fc1(x)\n",
    "\n",
    "    def forward(self, input1, input2):\n",
    "        output1 = self.forward_once(input1)\n",
    "        output2 = self.forward_once(input2)\n",
    "        return output1, output2\n",
    "    \n",
    "class ContrastiveLoss(torch.nn.Module):\n",
    "    def __init__(self, margin=1.0):\n",
    "        super(ContrastiveLoss, self).__init__()\n",
    "        self.margin = margin\n",
    "\n",
    "    def forward(self, x0, x1, y):\n",
    "        # euclidian distance\n",
    "        diff = x0 - x1\n",
    "        dist_sq = torch.sum(torch.pow(diff, 2), 1)\n",
    "        dist = torch.sqrt(dist_sq)\n",
    "\n",
    "        mdist = self.margin - dist\n",
    "        dist = torch.clamp(mdist, min=0.0)\n",
    "        loss = y * dist_sq + (1 - y) * torch.pow(dist, 2)\n",
    "        loss = torch.sum(loss) / 2.0 / x0.size()[1]\n",
    "        return loss"
   ]
  },
  {
   "cell_type": "markdown",
   "metadata": {},
   "source": [
    "## data characteristics"
   ]
  },
  {
   "cell_type": "code",
   "execution_count": 7,
   "metadata": {
    "collapsed": false
   },
   "outputs": [
    {
     "data": {
      "text/plain": [
       "(2693, 6)"
      ]
     },
     "execution_count": 7,
     "metadata": {},
     "output_type": "execute_result"
    }
   ],
   "source": [
    "raw.shape"
   ]
  },
  {
   "cell_type": "code",
   "execution_count": 8,
   "metadata": {
    "collapsed": false
   },
   "outputs": [
    {
     "data": {
      "text/plain": [
       "(740,)"
      ]
     },
     "execution_count": 8,
     "metadata": {},
     "output_type": "execute_result"
    }
   ],
   "source": [
    "raw['Cluster ID'].unique().shape"
   ]
  },
  {
   "cell_type": "markdown",
   "metadata": {},
   "source": [
    "## training"
   ]
  },
  {
   "cell_type": "code",
   "execution_count": 9,
   "metadata": {
    "collapsed": false
   },
   "outputs": [],
   "source": [
    "model = SiameseNetwork()\n",
    "loss  = ContrastiveLoss(margin=1)\n",
    "optimizer = torch.optim.Adam(model.parameters(), lr=0.001)"
   ]
  },
  {
   "cell_type": "code",
   "execution_count": 10,
   "metadata": {
    "collapsed": false
   },
   "outputs": [
    {
     "data": {
      "text/plain": [
       "OrderedDict([('fc1.0.weight', \n",
       "              1.00000e-02 *\n",
       "              -6.8233 -2.6149 -7.8547  ...   5.4810  5.4276  3.0050\n",
       "               2.0038  3.0023 -5.1906  ...  -1.2597 -5.4997 -0.2217\n",
       "               4.8204  4.6480 -4.5213  ...   7.1809 -1.2844  0.7432\n",
       "                        ...             ⋱             ...          \n",
       "               7.0123 -2.8425 -4.5068  ...   2.4839  5.3447 -2.1959\n",
       "              -3.8164 -7.5022  7.3411  ...  -6.6575 -0.4511  7.2510\n",
       "               3.1012 -0.8841 -1.3737  ...   4.1079  5.9144  5.9446\n",
       "              [torch.FloatTensor of size 100x154]), ('fc1.0.bias', \n",
       "              1.00000e-02 *\n",
       "                5.4371\n",
       "                4.6404\n",
       "               -0.5307\n",
       "                4.8787\n",
       "                3.5106\n",
       "                7.7964\n",
       "                3.8233\n",
       "               -0.4074\n",
       "                0.5787\n",
       "                0.3997\n",
       "                0.3000\n",
       "               -5.6473\n",
       "               -5.2019\n",
       "                5.2575\n",
       "               -3.1980\n",
       "                6.1586\n",
       "                3.7902\n",
       "                3.7672\n",
       "               -7.2240\n",
       "               -7.2308\n",
       "               -0.6216\n",
       "               -7.2047\n",
       "               -3.8562\n",
       "                4.4386\n",
       "                0.4897\n",
       "                5.7210\n",
       "                6.2895\n",
       "               -3.9974\n",
       "               -4.0420\n",
       "                2.9774\n",
       "               -4.2167\n",
       "               -1.3109\n",
       "                2.5667\n",
       "                2.3671\n",
       "                2.0086\n",
       "               -5.1424\n",
       "                5.3656\n",
       "               -2.1545\n",
       "                4.8155\n",
       "               -1.3689\n",
       "                1.1399\n",
       "               -6.0305\n",
       "                5.1789\n",
       "                1.3541\n",
       "               -6.9322\n",
       "               -4.6080\n",
       "                1.2069\n",
       "                0.0608\n",
       "                7.7628\n",
       "                3.3859\n",
       "               -1.2048\n",
       "                0.3600\n",
       "                2.6838\n",
       "                1.5534\n",
       "               -1.5838\n",
       "                2.0998\n",
       "               -1.3519\n",
       "               -6.6109\n",
       "                6.5049\n",
       "                0.8613\n",
       "               -1.1482\n",
       "               -4.1681\n",
       "                6.5638\n",
       "                3.5017\n",
       "               -1.2340\n",
       "                5.3337\n",
       "               -3.5884\n",
       "               -2.5854\n",
       "               -7.0332\n",
       "               -0.7626\n",
       "               -5.5947\n",
       "                5.5878\n",
       "                6.3916\n",
       "               -6.3991\n",
       "                7.2719\n",
       "                5.0172\n",
       "               -6.0390\n",
       "               -2.0372\n",
       "               -7.6607\n",
       "                1.2546\n",
       "               -0.4544\n",
       "                3.2554\n",
       "                3.1591\n",
       "                1.1153\n",
       "               -3.2949\n",
       "                5.8890\n",
       "               -1.1784\n",
       "                3.8971\n",
       "                7.8073\n",
       "                0.8522\n",
       "               -3.3193\n",
       "               -3.7026\n",
       "               -5.7698\n",
       "                5.8612\n",
       "                6.8834\n",
       "               -1.7019\n",
       "               -4.0948\n",
       "               -6.2861\n",
       "                1.7155\n",
       "                5.9650\n",
       "              [torch.FloatTensor of size 100]), ('fc1.2.weight', \n",
       "              1.00000e-02 *\n",
       "               4.7916 -0.5344  1.4243  ...  -8.6776 -2.9135  4.7360\n",
       "              -9.2968  7.5727 -0.1841  ...  -3.2227 -4.2769  2.7559\n",
       "              -4.9708  7.3132  5.2362  ...   5.5623  1.3984  6.8121\n",
       "                        ...             ⋱             ...          \n",
       "              -1.5889 -2.9294 -2.1598  ...  -4.4367 -6.1259  0.0333\n",
       "               8.8513  8.8238 -8.5054  ...   5.1189  9.8383 -8.3965\n",
       "              -1.0794 -0.5661 -6.1230  ...  -0.5027  0.8858  3.8066\n",
       "              [torch.FloatTensor of size 80x100]), ('fc1.2.bias', \n",
       "              1.00000e-02 *\n",
       "                9.6710\n",
       "               -1.3156\n",
       "               -5.0357\n",
       "                2.6083\n",
       "                5.3884\n",
       "               -2.0857\n",
       "                4.7889\n",
       "                3.9716\n",
       "               -7.9186\n",
       "               -8.4271\n",
       "                9.2841\n",
       "               -3.7175\n",
       "               -2.0705\n",
       "                7.3119\n",
       "               -7.4131\n",
       "               -8.7100\n",
       "                3.1799\n",
       "               -2.3951\n",
       "               -2.7851\n",
       "               -2.0268\n",
       "               -8.9574\n",
       "                2.3128\n",
       "                1.1380\n",
       "               -8.5751\n",
       "               -7.2115\n",
       "               -5.4288\n",
       "                6.2541\n",
       "               -6.9383\n",
       "               -4.3228\n",
       "                1.8634\n",
       "               -4.2074\n",
       "                3.5842\n",
       "               -6.4596\n",
       "                4.6246\n",
       "                2.4501\n",
       "               -7.0931\n",
       "                4.8396\n",
       "               -2.8053\n",
       "                7.3772\n",
       "               -3.2144\n",
       "               -1.7673\n",
       "               -2.1886\n",
       "                5.7288\n",
       "               -1.1070\n",
       "                2.9952\n",
       "               -4.8453\n",
       "                3.1801\n",
       "               -6.1973\n",
       "                6.0713\n",
       "               -0.5634\n",
       "                1.4878\n",
       "               -4.3227\n",
       "                9.2100\n",
       "                6.8834\n",
       "               -6.7612\n",
       "                0.1282\n",
       "               -5.6029\n",
       "               -0.7029\n",
       "               -0.2672\n",
       "               -0.9825\n",
       "                0.9054\n",
       "                3.9805\n",
       "               -2.5660\n",
       "               -2.7230\n",
       "                5.7871\n",
       "               -5.9067\n",
       "                1.8195\n",
       "                3.8952\n",
       "               -2.3672\n",
       "               -9.2153\n",
       "               -6.2647\n",
       "               -5.9986\n",
       "                2.7772\n",
       "                3.4297\n",
       "               -5.4504\n",
       "               -5.4287\n",
       "                3.5742\n",
       "                9.6825\n",
       "                5.8558\n",
       "                9.0335\n",
       "              [torch.FloatTensor of size 80])])"
      ]
     },
     "execution_count": 10,
     "metadata": {},
     "output_type": "execute_result"
    }
   ],
   "source": [
    "model.state_dict()"
   ]
  },
  {
   "cell_type": "code",
   "execution_count": 11,
   "metadata": {
    "collapsed": false
   },
   "outputs": [
    {
     "name": "stdout",
     "output_type": "stream",
     "text": [
      "loss for epoch 0 is nan\n",
      "loss for epoch 1 is nan\n",
      "loss for epoch 2 is nan\n",
      "CPU times: user 2min 19s, sys: 7.12 s, total: 2min 26s\n",
      "Wall time: 21.3 s\n"
     ]
    }
   ],
   "source": [
    "%%time\n",
    "\n",
    "loss_holder = []\n",
    "\n",
    "model.train()\n",
    "\n",
    "for epoch in range(3):\n",
    "    for i in range(raw.shape[0]-1):\n",
    "        # build data pairs\n",
    "        inpt1 = record_formatter(raw.iloc[i])\n",
    "        inpt2 = record_formatter(raw.iloc[i+1])\n",
    "        label = 1 if (raw.iloc[i]['Cluster ID'] == raw.iloc[i+1]['Cluster ID']) else 0\n",
    "        \n",
    "        # forward\n",
    "        otpt1, otpt2 = model.forward(inpt1, inpt2)\n",
    "        optimizer.zero_grad()\n",
    "        loss_calc = loss.forward(otpt1, otpt2, label)\n",
    "        # reassign loss requiring gradient\n",
    "        #loss_calc = Variable(loss_calc.data, requires_grad=True)\n",
    "        \n",
    "        # backprop\n",
    "        loss_calc.backward()\n",
    "        #print(model.state_dict())\n",
    "        optimizer.step()\n",
    "        \n",
    "        # console.log\n",
    "        loss_holder.append(loss_calc.data[0])\n",
    "        if i == raw.shape[0]-2:\n",
    "            print('loss for epoch', epoch, 'is',\n",
    "                  sum(loss_holder[-raw.shape[0]:]))\n",
    "            \n",
    "model.eval()"
   ]
  },
  {
   "cell_type": "code",
   "execution_count": 16,
   "metadata": {
    "collapsed": false
   },
   "outputs": [
    {
     "data": {
      "text/plain": [
       "torch.Size([1, 154])"
      ]
     },
     "execution_count": 16,
     "metadata": {},
     "output_type": "execute_result"
    }
   ],
   "source": [
    "inpt1.size()"
   ]
  },
  {
   "cell_type": "code",
   "execution_count": 18,
   "metadata": {
    "collapsed": false
   },
   "outputs": [
    {
     "data": {
      "text/plain": [
       "Variable containing:\n",
       "nan\n",
       "[torch.FloatTensor of size 1]"
      ]
     },
     "execution_count": 18,
     "metadata": {},
     "output_type": "execute_result"
    }
   ],
   "source": [
    "loss_calc"
   ]
  },
  {
   "cell_type": "code",
   "execution_count": 17,
   "metadata": {
    "collapsed": false
   },
   "outputs": [
    {
     "data": {
      "text/plain": [
       "(Variable containing:\n",
       " \n",
       " Columns 0 to 12 \n",
       "   nan   nan   nan   nan   nan   nan   nan   nan   nan   nan   nan   nan   nan\n",
       " \n",
       " Columns 13 to 25 \n",
       "   nan   nan   nan   nan   nan   nan   nan   nan   nan   nan   nan   nan   nan\n",
       " \n",
       " Columns 26 to 38 \n",
       "   nan   nan   nan   nan   nan   nan   nan   nan   nan   nan   nan   nan   nan\n",
       " \n",
       " Columns 39 to 51 \n",
       "   nan   nan   nan   nan   nan   nan   nan   nan   nan   nan   nan   nan   nan\n",
       " \n",
       " Columns 52 to 64 \n",
       "   nan   nan   nan   nan   nan   nan   nan   nan   nan   nan   nan   nan   nan\n",
       " \n",
       " Columns 65 to 77 \n",
       "   nan   nan   nan   nan   nan   nan   nan   nan   nan   nan   nan   nan   nan\n",
       " \n",
       " Columns 78 to 79 \n",
       "   nan   nan\n",
       " [torch.FloatTensor of size 1x80], Variable containing:\n",
       " \n",
       " Columns 0 to 12 \n",
       "   nan   nan   nan   nan   nan   nan   nan   nan   nan   nan   nan   nan   nan\n",
       " \n",
       " Columns 13 to 25 \n",
       "   nan   nan   nan   nan   nan   nan   nan   nan   nan   nan   nan   nan   nan\n",
       " \n",
       " Columns 26 to 38 \n",
       "   nan   nan   nan   nan   nan   nan   nan   nan   nan   nan   nan   nan   nan\n",
       " \n",
       " Columns 39 to 51 \n",
       "   nan   nan   nan   nan   nan   nan   nan   nan   nan   nan   nan   nan   nan\n",
       " \n",
       " Columns 52 to 64 \n",
       "   nan   nan   nan   nan   nan   nan   nan   nan   nan   nan   nan   nan   nan\n",
       " \n",
       " Columns 65 to 77 \n",
       "   nan   nan   nan   nan   nan   nan   nan   nan   nan   nan   nan   nan   nan\n",
       " \n",
       " Columns 78 to 79 \n",
       "   nan   nan\n",
       " [torch.FloatTensor of size 1x80])"
      ]
     },
     "execution_count": 17,
     "metadata": {},
     "output_type": "execute_result"
    }
   ],
   "source": [
    "model.forward(inpt1,inpt2)"
   ]
  },
  {
   "cell_type": "code",
   "execution_count": 17,
   "metadata": {
    "collapsed": false
   },
   "outputs": [
    {
     "data": {
      "image/png": "[encoded data removed]",
      "text/plain": [
       "<matplotlib.figure.Figure at 0x7f2e9903c4e0>"
      ]
     },
     "metadata": {},
     "output_type": "display_data"
    }
   ],
   "source": [
    "plt.plot(loss_holder)\n",
    "plt.show()"
   ]
  },
  {
   "cell_type": "code",
   "execution_count": null,
   "metadata": {
    "collapsed": true
   },
   "outputs": [],
   "source": []
  }
 ],
 "metadata": {
  "kernelspec": {
   "display_name": "Python 3",
   "language": "python",
   "name": "python3"
  },
  "language_info": {
   "codemirror_mode": {
    "name": "ipython",
    "version": 3
   },
   "file_extension": ".py",
   "mimetype": "text/x-python",
   "name": "python",
   "nbconvert_exporter": "python",
   "pygments_lexer": "ipython3",
   "version": "3.5.2"
  }
 },
 "nbformat": 4,
 "nbformat_minor": 1
}
