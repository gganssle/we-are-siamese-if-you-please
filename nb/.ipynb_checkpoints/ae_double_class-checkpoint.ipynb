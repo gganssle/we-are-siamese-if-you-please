{
 "cells": [
  {
   "cell_type": "code",
   "execution_count": 1,
   "metadata": {
    "collapsed": true
   },
   "outputs": [],
   "source": [
    "import numpy as np\n",
    "import pandas as pd\n",
    "import torch\n",
    "import torch.nn as nn\n",
    "from torch.autograd import Variable\n",
    "import matplotlib.pyplot as plt"
   ]
  },
  {
   "cell_type": "code",
   "execution_count": 2,
   "metadata": {
    "collapsed": false
   },
   "outputs": [
    {
     "data": {
      "text/html": [
       "<div>\n",
       "<table border=\"1\" class=\"dataframe\">\n",
       "  <thead>\n",
       "    <tr style=\"text-align: right;\">\n",
       "      <th></th>\n",
       "      <th>Cluster ID</th>\n",
       "      <th>Id</th>\n",
       "      <th>Site name</th>\n",
       "      <th>Address</th>\n",
       "      <th>Zip</th>\n",
       "      <th>Phone</th>\n",
       "    </tr>\n",
       "  </thead>\n",
       "  <tbody>\n",
       "    <tr>\n",
       "      <th>0</th>\n",
       "      <td>0</td>\n",
       "      <td>0</td>\n",
       "      <td>salvation army - temple / salvation army</td>\n",
       "      <td>1 n ogden ave</td>\n",
       "      <td>nan</td>\n",
       "      <td>2262649.0</td>\n",
       "    </tr>\n",
       "    <tr>\n",
       "      <th>1</th>\n",
       "      <td>0</td>\n",
       "      <td>1</td>\n",
       "      <td>salvation army - temple / salvation army</td>\n",
       "      <td>1 n ogden ave</td>\n",
       "      <td>nan</td>\n",
       "      <td>2262649.0</td>\n",
       "    </tr>\n",
       "    <tr>\n",
       "      <th>2</th>\n",
       "      <td>0</td>\n",
       "      <td>215</td>\n",
       "      <td>salvation army temple</td>\n",
       "      <td>1 n. ogden</td>\n",
       "      <td>nan</td>\n",
       "      <td>2262649.0</td>\n",
       "    </tr>\n",
       "    <tr>\n",
       "      <th>3</th>\n",
       "      <td>0</td>\n",
       "      <td>509</td>\n",
       "      <td>salvation army - temple / salvation army</td>\n",
       "      <td>1 n ogden ave</td>\n",
       "      <td>nan</td>\n",
       "      <td>2262649.0</td>\n",
       "    </tr>\n",
       "    <tr>\n",
       "      <th>4</th>\n",
       "      <td>0</td>\n",
       "      <td>510</td>\n",
       "      <td>salvation army - temple / salvation army</td>\n",
       "      <td>1 n ogden ave</td>\n",
       "      <td>nan</td>\n",
       "      <td>2262649.0</td>\n",
       "    </tr>\n",
       "  </tbody>\n",
       "</table>\n",
       "</div>"
      ],
      "text/plain": [
       "   Cluster ID   Id                                 Site name        Address  \\\n",
       "0           0    0  salvation army - temple / salvation army  1 n ogden ave   \n",
       "1           0    1  salvation army - temple / salvation army  1 n ogden ave   \n",
       "2           0  215                     salvation army temple     1 n. ogden   \n",
       "3           0  509  salvation army - temple / salvation army  1 n ogden ave   \n",
       "4           0  510  salvation army - temple / salvation army  1 n ogden ave   \n",
       "\n",
       "   Zip      Phone  \n",
       "0  nan  2262649.0  \n",
       "1  nan  2262649.0  \n",
       "2  nan  2262649.0  \n",
       "3  nan  2262649.0  \n",
       "4  nan  2262649.0  "
      ]
     },
     "execution_count": 2,
     "metadata": {},
     "output_type": "execute_result"
    }
   ],
   "source": [
    "raw = pd.read_csv('../dat/schools_w_clusters.csv')\n",
    "raw = raw[['Cluster ID', 'Id', 'Site name', 'Address', 'Zip', 'Phone']]\n",
    "raw['Zip'] = raw['Zip'].astype(str)\n",
    "raw['Phone'] = raw['Phone'].astype(str)\n",
    "raw.head()"
   ]
  },
  {
   "cell_type": "code",
   "execution_count": 3,
   "metadata": {
    "collapsed": false
   },
   "outputs": [
    {
     "name": "stdout",
     "output_type": "stream",
     "text": [
      "name max len = 95\n",
      "address max len = 43\n",
      "Zip max len = 7\n",
      "phone max len = 9\n"
     ]
    }
   ],
   "source": [
    "print('name max len =', raw['Site name'].str.len().max())\n",
    "print('address max len =', raw['Address'].str.len().max())\n",
    "print('Zip max len =', raw['Zip'].str.len().max())\n",
    "print('phone max len =', raw['Phone'].str.len().max())"
   ]
  },
  {
   "cell_type": "markdown",
   "metadata": {},
   "source": [
    "for a total of max length 154"
   ]
  },
  {
   "cell_type": "markdown",
   "metadata": {},
   "source": [
    "## defs\n",
    "The following insanity is how we need to convert into a useable Torch tensor of correct size and Variable...ness."
   ]
  },
  {
   "cell_type": "code",
   "execution_count": 4,
   "metadata": {
    "collapsed": false
   },
   "outputs": [
    {
     "data": {
      "text/plain": [
       "Variable containing:\n",
       " 0.0555  0.6770  0.7945  0.2175  0.6378  0.7369  0.5262  0.1299  0.3192  0.6213\n",
       "[torch.FloatTensor of size 1x10]"
      ]
     },
     "execution_count": 4,
     "metadata": {},
     "output_type": "execute_result"
    }
   ],
   "source": [
    "Variable(torch.from_numpy(np.random.rand(10)).float()).view(1,10)"
   ]
  },
  {
   "cell_type": "code",
   "execution_count": 5,
   "metadata": {
    "collapsed": true
   },
   "outputs": [],
   "source": [
    "def extend_to_length(string_to_expand, length):\n",
    "    extension = '~' * (length-len(string_to_expand))\n",
    "    return string_to_expand + extension\n",
    "\n",
    "def record_formatter(record):\n",
    "    name = extend_to_length(record['Site name'], 95)\n",
    "    addr = extend_to_length(record['Address'], 43)\n",
    "    zipp = extend_to_length(record['Zip'], 7)\n",
    "    phon = extend_to_length(record['Phone'], 9)\n",
    "    \n",
    "    strings = list(''.join((name, addr, zipp, phon)))\n",
    "    characters = np.array(list(map(ord, strings)))\n",
    "    \n",
    "    return Variable(torch.from_numpy(characters).float()).view(1,len(characters))"
   ]
  },
  {
   "cell_type": "code",
   "execution_count": 10,
   "metadata": {
    "collapsed": true
   },
   "outputs": [],
   "source": [
    "class ae_net(nn.Module):\n",
    "    def __init__(self, v_size=154, enc_size=50):\n",
    "        super(ae_net, self).__init__()\n",
    "        \n",
    "        self.encoder = nn.Sequential(\n",
    "            nn.Linear(v_size, 400),\n",
    "            nn.ReLU(True),\n",
    "            nn.Linear(400, 200),\n",
    "            nn.ReLU(True),\n",
    "            nn.Linear(200, 100),\n",
    "            nn.ReLU(True),\n",
    "            nn.Linear(100, enc_size)\n",
    "        )\n",
    "        \n",
    "        self.decoder = nn.Sequential(\n",
    "            nn.Linear(enc_size, 75),\n",
    "            nn.ReLU(True),\n",
    "            nn.Linear(75, 100),\n",
    "            nn.ReLU(True),\n",
    "            nn.Linear(100, 125),\n",
    "            nn.ReLU(True),\n",
    "            nn.Linear(125, v_size)\n",
    "        )\n",
    "        \n",
    "    def autoencode(self, vector):\n",
    "        return self.decoder(self.encoder(vector))\n",
    "    \n",
    "    def encode(self, vector):\n",
    "        return self.encoder(vector)\n",
    "        \n",
    "class disc_net(nn.Module):\n",
    "    def __init__(self, enc_size=50):\n",
    "        super(disc_net, self).__init__()\n",
    "        \n",
    "        self.discriminator = nn.Sequential(\n",
    "            nn.Linear(enc_size*2, 100),\n",
    "            nn.ReLU(True),\n",
    "            nn.Linear(100, 50),\n",
    "            nn.ReLU(True),\n",
    "            nn.Linear(50,2),\n",
    "            nn.LogSoftmax()\n",
    "        )\n",
    "\n",
    "    def discriminate(self, input1, input2):\n",
    "        output = self.discriminator(torch.cat([input1, input2], dim=1))\n",
    "        return output\n",
    "    "
   ]
  },
  {
   "cell_type": "markdown",
   "metadata": {},
   "source": [
    "## data characteristics"
   ]
  },
  {
   "cell_type": "code",
   "execution_count": 7,
   "metadata": {
    "collapsed": false
   },
   "outputs": [
    {
     "data": {
      "text/plain": [
       "(2693, 6)"
      ]
     },
     "execution_count": 7,
     "metadata": {},
     "output_type": "execute_result"
    }
   ],
   "source": [
    "raw.shape"
   ]
  },
  {
   "cell_type": "code",
   "execution_count": 8,
   "metadata": {
    "collapsed": false
   },
   "outputs": [
    {
     "data": {
      "text/plain": [
       "(740,)"
      ]
     },
     "execution_count": 8,
     "metadata": {},
     "output_type": "execute_result"
    }
   ],
   "source": [
    "raw['Cluster ID'].unique().shape"
   ]
  },
  {
   "cell_type": "markdown",
   "metadata": {},
   "source": [
    "## training"
   ]
  },
  {
   "cell_type": "code",
   "execution_count": 12,
   "metadata": {
    "collapsed": false
   },
   "outputs": [],
   "source": [
    "learning_rate = 0.001\n",
    "\n",
    "model1 = ae_net()\n",
    "criterion = nn.MSELoss()\n",
    "optimizer = torch.optim.Adam(model1.parameters(), lr=learning_rate)"
   ]
  },
  {
   "cell_type": "code",
   "execution_count": 13,
   "metadata": {
    "collapsed": false
   },
   "outputs": [
    {
     "name": "stdout",
     "output_type": "stream",
     "text": [
      "CPU times: user 2min 31s, sys: 6.67 s, total: 2min 38s\n",
      "Wall time: 23.1 s\n"
     ]
    }
   ],
   "source": [
    "%%time\n",
    "ae_loss = []\n",
    "\n",
    "model1.train()\n",
    "\n",
    "# train autoencoder\n",
    "for epoch in range(1):\n",
    "    temp_loss = 0\n",
    "    \n",
    "    for i in range(raw.shape[0]):\n",
    "        # build data pairs\n",
    "        inpt = record_formatter(raw.iloc[i])\n",
    "\n",
    "        # forward\n",
    "        otpt = model1.autoencode(inpt)\n",
    "        loss = criterion(otpt, inpt)\n",
    "        \n",
    "        # backprop\n",
    "        optimizer.zero_grad()\n",
    "        loss.backward()\n",
    "        optimizer.step()\n",
    "        \n",
    "        # logging\n",
    "        temp_loss += loss\n",
    "\n",
    "    # logging\n",
    "    ae_loss.append(temp_loss.data[0]/raw.shape[0])\n",
    "    \n",
    "model1.eval()"
   ]
  },
  {
   "cell_type": "code",
   "execution_count": 14,
   "metadata": {
    "collapsed": true
   },
   "outputs": [],
   "source": [
    "learning_rate = 0.001\n",
    "\n",
    "model2 = disc_net()\n",
    "criterion = nn.NLLLoss()\n",
    "optimizer = torch.optim.Adam(model2.parameters(), lr=learning_rate)"
   ]
  },
  {
   "cell_type": "code",
   "execution_count": 18,
   "metadata": {
    "collapsed": false
   },
   "outputs": [
    {
     "name": "stdout",
     "output_type": "stream",
     "text": [
      "CPU times: user 40.3 s, sys: 1min 29s, total: 2min 9s\n",
      "Wall time: 16.8 s\n"
     ]
    }
   ],
   "source": [
    "%%time\n",
    "\n",
    "disc_loss = []\n",
    "diff = 1\n",
    "model2.train()\n",
    "\n",
    "# train discriminator\n",
    "for epoch in range(1):\n",
    "    temp_loss = 0\n",
    "    \n",
    "    for i in range(raw.shape[0]-diff):\n",
    "        # build data pairs\n",
    "        inpt1 = model1.encode(record_formatter(raw.iloc[i]))\n",
    "        inpt2 = model1.encode(record_formatter(raw.iloc[i+diff]))\n",
    "        label = 1 if (raw.iloc[i]['Cluster ID'] == raw.iloc[i+diff]['Cluster ID']) else 0\n",
    "        label = Variable(torch.LongTensor([label]))\n",
    "        \n",
    "        # forward\n",
    "        otpt = model2.discriminate(inpt1, inpt2)\n",
    "        loss = criterion(otpt, label)\n",
    "        \n",
    "        # backprop\n",
    "        optimizer.zero_grad()\n",
    "        loss.backward()\n",
    "        optimizer.step()\n",
    "        \n",
    "        # logging\n",
    "        temp_loss += loss\n",
    "\n",
    "    # logging\n",
    "    disc_loss.append(temp_loss.data[0]/raw.shape[0])\n",
    "    \n",
    "model2.eval()"
   ]
  },
  {
   "cell_type": "markdown",
   "metadata": {},
   "source": [
    "Don't forget to Exp the output b/c LogSoftmax"
   ]
  },
  {
   "cell_type": "code",
   "execution_count": 16,
   "metadata": {
    "collapsed": false
   },
   "outputs": [
    {
     "data": {
      "text/plain": [
       "Variable containing:\n",
       " 0.4712  0.5288\n",
       "[torch.FloatTensor of size 1x2]"
      ]
     },
     "execution_count": 16,
     "metadata": {},
     "output_type": "execute_result"
    }
   ],
   "source": [
    "torch.exp(model2.discriminate(inpt1, inpt2))"
   ]
  },
  {
   "cell_type": "code",
   "execution_count": 19,
   "metadata": {
    "collapsed": false
   },
   "outputs": [
    {
     "name": "stdout",
     "output_type": "stream",
     "text": [
      "ae loss = [384.9202098031935]\n",
      "disc ls = [0.5623177784417935]\n"
     ]
    }
   ],
   "source": [
    "print('ae loss =', ae_loss)\n",
    "print('disc ls =', disc_loss)"
   ]
  },
  {
   "cell_type": "code",
   "execution_count": null,
   "metadata": {
    "collapsed": true
   },
   "outputs": [],
   "source": []
  }
 ],
 "metadata": {
  "kernelspec": {
   "display_name": "Python 3",
   "language": "python",
   "name": "python3"
  },
  "language_info": {
   "codemirror_mode": {
    "name": "ipython",
    "version": 3
   },
   "file_extension": ".py",
   "mimetype": "text/x-python",
   "name": "python",
   "nbconvert_exporter": "python",
   "pygments_lexer": "ipython3",
   "version": "3.5.2"
  }
 },
 "nbformat": 4,
 "nbformat_minor": 1
}
